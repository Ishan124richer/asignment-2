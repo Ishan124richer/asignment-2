{
 "cells": [
  {
   "cell_type": "code",
   "execution_count": 1,
   "id": "42ce271a-4555-4d63-b774-f4fe3549d8c8",
   "metadata": {},
   "outputs": [],
   "source": [
    "#1  Explain the importance of Functions."
   ]
  },
  {
   "cell_type": "markdown",
   "id": "8170b2ab-1752-456f-8758-7393e11d7e8f",
   "metadata": {},
   "source": [
    "Ans 1: Functions are an essential feature in Python programming and play a crucial role in making code more efficient, modular, and easier to maintain. Here's why functions are important in Python:\n",
    "\n",
    "1. Code Reusability\n",
    "Functions allow you to write a block of code once and reuse it multiple times without rewriting the same code.\n",
    "This reduces redundancy, making programs more concise and easier to read.\n",
    "2. Modularity\n",
    "Functions help break down a large program into smaller, manageable parts.\n",
    "Each function performs a specific task, making the code more organized and modular.\n",
    "3. Improves Readability\n",
    "Well-named functions make the code self-explanatory.\n",
    "Instead of long blocks of code, a program with functions is easier to read and understand.\n",
    "4. Simplifies Debugging\n",
    "Functions isolate specific blocks of code, making it easier to identify and fix errors.\n",
    "Debugging a specific function is simpler than debugging an entire program.\n",
    "5. Encapsulation\n",
    "Functions can encapsulate complex logic, exposing only the input and output interface.\n",
    "This abstraction hides unnecessary details and provides a cleaner interface.\n",
    "6. Promotes Maintainability\n",
    "Functions reduce the impact of changes.\n",
    "If you need to modify a specific functionality, you only need to update the function instead of searching through the entire codebase.\n",
    "7. Supports DRY Principle\n",
    "\"Don't Repeat Yourself\" (DRY) is a programming principle aimed at reducing duplication.\n",
    "Functions help you adhere to this principle, minimizing repeated code.\n",
    "8. Facilitates Testing\n",
    "Isolated functions are easier to test for correctness.\n",
    "Testing individual functions allows for a modular testing approach.\n",
    "9. Encourages Collaboration\n",
    "In team projects, dividing tasks into functions makes it easier for multiple developers to work on different parts of the same program.\n",
    "10. Supports Functional and Procedural Programming\n",
    "Python functions allow you to implement procedural and functional programming paradigms effectively.\n",
    "They can return values, take arguments, and be passed around as first-class objects."
   ]
  },
  {
   "cell_type": "code",
   "execution_count": 9,
   "id": "b8dcbc45-1aad-4a63-b23e-3f2d7b804935",
   "metadata": {},
   "outputs": [],
   "source": [
    "#2 Write a basic function to greet students"
   ]
  },
  {
   "cell_type": "code",
   "execution_count": 7,
   "id": "f19cb2b1-0869-4b3c-ba2d-3de10a681a06",
   "metadata": {},
   "outputs": [
    {
     "name": "stdout",
     "output_type": "stream",
     "text": [
      "Hello, Alice! Welcome to the class!\n",
      "Hello, John! Welcome to the class!\n"
     ]
    }
   ],
   "source": [
    "#Ans 2 :\n",
    "def greet_student(name):\n",
    "    print(f\"Hello, {name}! Welcome to the class!\")\n",
    "\n",
    "# Example usage\n",
    "greet_student(\"Alice\")\n",
    "greet_student(\"John\")\n"
   ]
  },
  {
   "cell_type": "code",
   "execution_count": 8,
   "id": "378679e6-8804-494f-8207-2a9a18e3a5f9",
   "metadata": {},
   "outputs": [],
   "source": [
    "#3  What is the difference between print and return statements"
   ]
  },
  {
   "cell_type": "markdown",
   "id": "762d860a-2db2-471a-a311-c42e7772e886",
   "metadata": {},
   "source": [
    "Ans 3: The print and return statements in Python serve different purposes and are used in different contexts within a program. Here's a detailed explanation of their differences:\n",
    "\n",
    "1. Purpose\n",
    "print: Displays output to the console or standard output. It's primarily used for debugging or showing results to the user.\n",
    "return: Sends a value back to the caller of a function. It is used to return data from a function for further processing.\n",
    "2. Context of Use\n",
    "print: Used outside or inside functions when you need to display information.\n",
    "return: Used only inside functions to pass back a value to the code that called the function.\n",
    "3. Effect\n",
    "print: Does not affect the program's flow or data. It simply outputs text.\n",
    "return: Terminates a function and provides a result to the caller, which can then be used in subsequent operations.\n"
   ]
  },
  {
   "cell_type": "code",
   "execution_count": 10,
   "id": "33b7accc-ed52-4559-8840-ad3a5061886f",
   "metadata": {},
   "outputs": [],
   "source": [
    "#4 What are *args and **kwargs"
   ]
  },
  {
   "cell_type": "code",
   "execution_count": 14,
   "id": "0e1947de-ea3b-45bf-9f69-b90dfe5752b4",
   "metadata": {},
   "outputs": [
    {
     "name": "stdout",
     "output_type": "stream",
     "text": [
      "Hello, ram pal!\n",
      "Hello, digvijay!\n",
      "Hello, rajat dalal!\n",
      "name: abhishek malhan\n",
      "age: 25\n",
      "city: delhi\n"
     ]
    }
   ],
   "source": [
    "#Ans 4:\n",
    "\"\"\"\n",
    "In Python, *args and **kwargs are special syntax used in function definitions to allow a variable number of arguments to be passed to a function. They are particularly useful when you don’t know in advance how many arguments will be passed.\n",
    "\n",
    "*args\n",
    "*args allows you to pass a variable number of positional arguments to a function. It collects additional arguments into a tuple.\n",
    "\"\"\"\n",
    "\n",
    "def greet(*names):\n",
    "    for name in names:\n",
    "        print(f\"Hello, {name}!\")\n",
    "\n",
    "greet(\"ram pal\", \"digvijay\", \"rajat dalal\")\n",
    "\n",
    "\"\"\"\n",
    "**kwargs\n",
    "**kwargs allows you to pass a variable number of keyword arguments to a function. It collects additional keyword arguments into a dictionary.\n",
    "\"\"\"\n",
    "def display_info(**info):\n",
    "    for key, value in info.items():\n",
    "        print(f\"{key}: {value}\")\n",
    "\n",
    "display_info(name=\"abhishek malhan\", age=25, city=\"delhi\")\n",
    "\n"
   ]
  },
  {
   "cell_type": "code",
   "execution_count": 15,
   "id": "f26f6f13-5ee5-4b53-a402-436e150a32df",
   "metadata": {},
   "outputs": [],
   "source": [
    "#5 Explain the iterator function"
   ]
  },
  {
   "cell_type": "code",
   "execution_count": 23,
   "id": "aabe3277-8609-4a39-b68c-6a14fa7f6a28",
   "metadata": {},
   "outputs": [
    {
     "name": "stdout",
     "output_type": "stream",
     "text": [
      "1\n",
      "2\n",
      "3\n"
     ]
    }
   ],
   "source": [
    "#Ans 5 :\n",
    "\"\"\"\n",
    "In Python, an iterator is an object that enables sequential traversal through a collection (e.g., a list, tuple, or string) without requiring the entire data structure to be stored in memory at once. It follows the iterator protocol, which consists of the following two methods:\n",
    "\n",
    "__iter__(): Returns the iterator object itself.\n",
    "__next__(): Returns the next item in the sequence. If no items are left, it raises a StopIteration exception.\n",
    "Key Concepts\n",
    "Iterable vs. Iterator\n",
    "Iterable: Any object that can be iterated over (e.g., lists, tuples, strings, dictionaries). It must have an __iter__() method that returns an iterator.\n",
    "Iterator: An object with both __iter__() and __next__() methods.\n",
    "Creating an Iterator\n",
    "Python has built-in iterators for most collection types, but you can also create custom iterators.\n",
    "\n",
    "\"\"\"\n",
    "# Example: Using an iterator on a list\n",
    "my_list = [1, 2, 3]\n",
    "iterator = iter(my_list)  # Create an iterator from the list\n",
    "\n",
    "print(next(iterator))  # Output: 1\n",
    "print(next(iterator))  # Output: 2\n",
    "print(next(iterator))  # Output: 3\n",
    "# print(next(iterator))  # Raises StopIteration\n",
    "\n"
   ]
  },
  {
   "cell_type": "code",
   "execution_count": 18,
   "id": "45bb96b8-7a63-4ace-b55e-812576503a87",
   "metadata": {},
   "outputs": [],
   "source": [
    "#6 Write a code that generates the squares of numbers from 1 to n using a generator"
   ]
  },
  {
   "cell_type": "code",
   "execution_count": 24,
   "id": "477e055d-dc07-4a56-b385-c17f64bd7ab3",
   "metadata": {
    "scrolled": true
   },
   "outputs": [
    {
     "name": "stdout",
     "output_type": "stream",
     "text": [
      "1\n",
      "4\n",
      "9\n",
      "16\n",
      "25\n"
     ]
    }
   ],
   "source": [
    "#Ans 6:\n",
    "def generate_squares(n):\n",
    "\n",
    "    for i in range(1, n + 1):\n",
    "        yield i ** 2\n",
    "n=5\n",
    "for square in generate_squares(n):\n",
    "    print(square)\n"
   ]
  },
  {
   "cell_type": "code",
   "execution_count": 25,
   "id": "9c0879d9-22fd-4cf7-bef9-5a5c6cb97e4f",
   "metadata": {},
   "outputs": [],
   "source": [
    "#7 Write a code that generates palindromic numbers up to n using a generator"
   ]
  },
  {
   "cell_type": "code",
   "execution_count": 26,
   "id": "3c8b8982-5e05-43f8-9fb9-d633170482eb",
   "metadata": {},
   "outputs": [
    {
     "name": "stdout",
     "output_type": "stream",
     "text": [
      "1\n",
      "2\n",
      "3\n",
      "4\n",
      "5\n",
      "6\n",
      "7\n",
      "8\n",
      "9\n",
      "11\n",
      "22\n",
      "33\n",
      "44\n",
      "55\n",
      "66\n",
      "77\n",
      "88\n",
      "99\n"
     ]
    }
   ],
   "source": [
    "#Ans 7 :\n",
    "\n",
    "def generate_palindromes(n):\n",
    "\n",
    "    for num in range(1, n + 1):\n",
    "        if str(num) == str(num)[::-1]:  \n",
    "            yield num\n",
    "\n",
    "n = 100  \n",
    "for palindrome in generate_palindromes(n):\n",
    "    print(palindrome)\n"
   ]
  },
  {
   "cell_type": "code",
   "execution_count": 27,
   "id": "171d1c4f-4867-4b7c-8c5b-763325d0e8f8",
   "metadata": {},
   "outputs": [],
   "source": [
    "#8 Write a code that generates even numbers from 2 to n using a generator"
   ]
  },
  {
   "cell_type": "code",
   "execution_count": 40,
   "id": "feb180c0-192a-4ba1-a6ea-8fc1fc52f4fe",
   "metadata": {},
   "outputs": [
    {
     "name": "stdout",
     "output_type": "stream",
     "text": [
      "2\n",
      "4\n",
      "6\n",
      "8\n",
      "10\n",
      "12\n",
      "14\n",
      "16\n",
      "18\n",
      "20\n"
     ]
    }
   ],
   "source": [
    "#Ans 8:\n",
    "def generate_evens(n):\n",
    "    for num in range(2, n + 1, 2):  # Increment by 2 to get only even numbers\n",
    "        yield num\n",
    "\n",
    "# Example usage\n",
    "n = 20  # You can change this value\n",
    "for even_number in generate_evens(n):\n",
    "    print(even_number)\n"
   ]
  },
  {
   "cell_type": "code",
   "execution_count": 41,
   "id": "3e0b26da-3d27-43ed-9d1f-be5f5ced0dcc",
   "metadata": {},
   "outputs": [],
   "source": [
    "#9 Write a code that generates powers of two up to n using a generator"
   ]
  },
  {
   "cell_type": "code",
   "execution_count": 43,
   "id": "582e3a22-1456-44c3-93b8-f8bec6cbfec2",
   "metadata": {},
   "outputs": [
    {
     "name": "stdout",
     "output_type": "stream",
     "text": [
      "1\n",
      "2\n",
      "4\n",
      "8\n",
      "16\n",
      "32\n",
      "64\n",
      "128\n",
      "256\n",
      "512\n",
      "1024\n"
     ]
    }
   ],
   "source": [
    "#Ans 9 : \n",
    "def generate_powers_of_two(n):\n",
    "   \n",
    "    for i in range(n + 1):\n",
    "        yield 2 ** i\n",
    "\n",
    "# Example usage\n",
    "n = 10  # You can change this value\n",
    "for power in generate_powers_of_two(n):\n",
    "    print(power)\n"
   ]
  },
  {
   "cell_type": "code",
   "execution_count": 44,
   "id": "d2565aaa-4946-49f2-9d78-f39b9a012964",
   "metadata": {},
   "outputs": [],
   "source": [
    "#10 Write a code that generates prime numbers up to n using a generator"
   ]
  },
  {
   "cell_type": "code",
   "execution_count": 45,
   "id": "17e97cb0-efc0-488d-bf13-1d584b2d1aae",
   "metadata": {},
   "outputs": [
    {
     "name": "stdout",
     "output_type": "stream",
     "text": [
      "2\n",
      "3\n",
      "5\n",
      "7\n",
      "11\n",
      "13\n",
      "17\n",
      "19\n",
      "23\n",
      "29\n",
      "31\n",
      "37\n",
      "41\n",
      "43\n",
      "47\n"
     ]
    }
   ],
   "source": [
    "#Ans 10 \n",
    "def is_prime(num):\n",
    "    if num < 2:\n",
    "        return False\n",
    "    for i in range(2, int(num ** 0.5) + 1):\n",
    "        if num % i == 0:\n",
    "            return False\n",
    "    return True\n",
    "\n",
    "def generate_primes(n):\n",
    "    for num in range(2, n + 1):\n",
    "        if is_prime(num):\n",
    "            yield num\n",
    "\n",
    "# Example usage\n",
    "n = 50  # You can change this value\n",
    "for prime in generate_primes(n):\n",
    "    print(prime)\n"
   ]
  },
  {
   "cell_type": "code",
   "execution_count": 46,
   "id": "0f5cf59a-1898-49c9-a55d-12024cf16598",
   "metadata": {},
   "outputs": [],
   "source": [
    " #11 Write a code that uses a lambda function to calculate the sum of two numbers"
   ]
  },
  {
   "cell_type": "code",
   "execution_count": null,
   "id": "fc802b43-e61c-42d8-b543-48f9177567fd",
   "metadata": {},
   "outputs": [],
   "source": [
    "sum_lambda = lambda a, b: a + b\n",
    "\n",
    "# Example usage\n",
    "result = sum_lambda(5, 3)\n",
    "print(f\"The sum of 5 and 3 is {result}\")\n"
   ]
  },
  {
   "cell_type": "code",
   "execution_count": 1,
   "id": "bed4caab-549b-4a50-9281-80de2a0b5ad7",
   "metadata": {},
   "outputs": [],
   "source": [
    "#12 Write a code that uses a lambda function to calculate the square of a given number"
   ]
  },
  {
   "cell_type": "code",
   "execution_count": 3,
   "id": "3ba4524d-f908-4204-b72c-ae9dd7af0cae",
   "metadata": {},
   "outputs": [
    {
     "name": "stdout",
     "output_type": "stream",
     "text": [
      "The square of 5 is 25\n"
     ]
    }
   ],
   "source": [
    "#Ans 12\n",
    "square = lambda x: x ** 2\n",
    "\n",
    "number = 5\n",
    "result = square(number)\n",
    "print(f\"The square of {number} is {result}\")\n"
   ]
  },
  {
   "cell_type": "code",
   "execution_count": 4,
   "id": "4076964f-4b41-49ad-b960-fffbd120b7b6",
   "metadata": {},
   "outputs": [],
   "source": [
    "#13  Write a code that uses a lambda function to check whether a given number is even or odd"
   ]
  },
  {
   "cell_type": "code",
   "execution_count": 5,
   "id": "c977edd3-9521-4ffa-95cf-4cee81917ab6",
   "metadata": {},
   "outputs": [
    {
     "name": "stdout",
     "output_type": "stream",
     "text": [
      "The number 7 is Odd.\n"
     ]
    }
   ],
   "source": [
    "#Ans 13\n",
    "is_even = lambda x: \"Even\" if x % 2 == 0 else \"Odd\"\n",
    "\n",
    "number = 7\n",
    "result = is_even(number)\n",
    "print(f\"The number {number} is {result}.\")\n"
   ]
  },
  {
   "cell_type": "code",
   "execution_count": 5,
   "id": "53d1752e-0469-4a8f-95af-463181ff060e",
   "metadata": {},
   "outputs": [],
   "source": [
    "#15 Write a code that uses a lambda function to concatenate two strings"
   ]
  },
  {
   "cell_type": "code",
   "execution_count": 9,
   "id": "15c0d05e-a032-4221-8d1e-2ee799614e5e",
   "metadata": {},
   "outputs": [
    {
     "name": "stdout",
     "output_type": "stream",
     "text": [
      "Concatenated string: Hello World!\n"
     ]
    }
   ],
   "source": [
    "#Ans 15\n",
    "concatenate = lambda s1, s2: s1 + s2\n",
    "\n",
    "string1 = \"Hello \"\n",
    "string2 = \"World!\"\n",
    "result = concatenate(string1, string2)\n",
    "print(f\"Concatenated string: {result}\")\n"
   ]
  },
  {
   "cell_type": "code",
   "execution_count": 6,
   "id": "e351f7e1-6232-44b8-ac84-670b7e75eb5b",
   "metadata": {},
   "outputs": [],
   "source": [
    "#16 Write a code that uses a lambda function to find the maximum of three given numbers"
   ]
  },
  {
   "cell_type": "code",
   "execution_count": 8,
   "id": "d381dec2-f1f4-489a-bb8e-629a7dd5d39d",
   "metadata": {},
   "outputs": [
    {
     "name": "stdout",
     "output_type": "stream",
     "text": [
      "The maximum of 10, 25, and 15 is 25.\n"
     ]
    }
   ],
   "source": [
    "#Ans 16 \n",
    "maximum = lambda x, y, z: max(x, y, z)\n",
    "\n",
    "num1 = 10\n",
    "num2 = 25\n",
    "num3 = 15\n",
    "result = maximum(num1, num2, num3)\n",
    "print(f\"The maximum of {num1}, {num2}, and {num3} is {result}.\")\n"
   ]
  },
  {
   "cell_type": "code",
   "execution_count": 10,
   "id": "9d355954-4213-4aab-b900-6e56b159534f",
   "metadata": {},
   "outputs": [],
   "source": [
    "#17 Write a code that generates the squares of even numbers from a given list"
   ]
  },
  {
   "cell_type": "code",
   "execution_count": 12,
   "id": "cebce568-d98f-48da-a6d3-f448d13624c4",
   "metadata": {},
   "outputs": [
    {
     "name": "stdout",
     "output_type": "stream",
     "text": [
      "Squares of even numbers: [4, 16, 36, 64, 100]\n"
     ]
    }
   ],
   "source": [
    "#Ans 17\n",
    "numbers = [1, 2, 3, 4, 5, 6, 7, 8, 9, 10]\n",
    "\n",
    "squares_of_evens = list(map(lambda x: x ** 2, filter(lambda x: x % 2 == 0, numbers)))\n",
    "\n",
    "print(f\"Squares of even numbers: {squares_of_evens}\")\n"
   ]
  },
  {
   "cell_type": "code",
   "execution_count": 13,
   "id": "599404dd-797a-48f3-8592-6af0563b19df",
   "metadata": {},
   "outputs": [],
   "source": [
    "#18 Write a code that calculates the product of positive numbers from a given list"
   ]
  },
  {
   "cell_type": "code",
   "execution_count": 5,
   "id": "8b43392d-248d-406a-a864-5440c0388b3d",
   "metadata": {},
   "outputs": [
    {
     "name": "stdout",
     "output_type": "stream",
     "text": [
      "The product of positive numbers is: 40\n"
     ]
    }
   ],
   "source": [
    "#Ans 18 \n",
    "from functools import reduce\n",
    "\n",
    "numbers = [-3, 2, -1, 4, 0, 5, -7]\n",
    "\n",
    "product_of_positives = reduce(lambda x, y: x * y, filter(lambda x: x > 0, numbers), 1)\n",
    "\n",
    "print(f\"The product of positive numbers is: {product_of_positives}\")\n"
   ]
  },
  {
   "cell_type": "code",
   "execution_count": 3,
   "id": "86bf5baa-102a-4dfb-a89d-70e85c168404",
   "metadata": {},
   "outputs": [],
   "source": [
    "#19 Write a code that doubles the values of odd numbers from a given list"
   ]
  },
  {
   "cell_type": "code",
   "execution_count": 6,
   "id": "6163982a-f06e-4786-a667-63859ef87fa2",
   "metadata": {},
   "outputs": [
    {
     "name": "stdout",
     "output_type": "stream",
     "text": [
      "List with odd numbers doubled: [2, 2, 6, 4, 10, 6, 14, 8, 18, 10]\n"
     ]
    }
   ],
   "source": [
    "#Ans 19\n",
    "numbers = [1, 2, 3, 4, 5, 6, 7, 8, 9, 10]\n",
    "\n",
    "doubled_odds = list(map(lambda x: x * 2 if x % 2 != 0 else x, numbers))\n",
    "\n",
    "print(f\"List with odd numbers doubled: {doubled_odds}\")\n"
   ]
  },
  {
   "cell_type": "code",
   "execution_count": 7,
   "id": "a6286655-3d7e-4885-a999-8c4f07e29bd2",
   "metadata": {},
   "outputs": [],
   "source": [
    "#20 Write a code that calculates the sum of cubes of numbers from a given list"
   ]
  },
  {
   "cell_type": "code",
   "execution_count": 10,
   "id": "6b4f93d8-17a8-4e14-b6ff-b7f6e07f26b6",
   "metadata": {},
   "outputs": [
    {
     "name": "stdout",
     "output_type": "stream",
     "text": [
      "The sum of cubes of the numbers is: 225\n"
     ]
    }
   ],
   "source": [
    "#Ans 20 \n",
    "numbers = [1, 2, 3, 4, 5]\n",
    "\n",
    "sum_of_cubes = sum(map(lambda x: x ** 3, numbers))\n",
    "\n",
    "print(f\"The sum of cubes of the numbers is: {sum_of_cubes}\")\n"
   ]
  },
  {
   "cell_type": "code",
   "execution_count": 9,
   "id": "50d16dfe-b62b-468b-ac8f-31adf317bc40",
   "metadata": {},
   "outputs": [],
   "source": [
    "#21 Write a code that filters out prime numbers from a given list"
   ]
  },
  {
   "cell_type": "code",
   "execution_count": 11,
   "id": "5c83fdfd-d51f-421b-b8bf-c7c26e9f8cd3",
   "metadata": {},
   "outputs": [
    {
     "name": "stdout",
     "output_type": "stream",
     "text": [
      "Non-prime numbers: [4, 6, 8, 9, 10]\n"
     ]
    }
   ],
   "source": [
    "#Ans 21\n",
    "is_prime = lambda x: x > 1 and all(x % i != 0 for i in range(2, int(x ** 0.5) + 1))\n",
    "\n",
    "numbers = [2, 3, 4, 5, 6, 7, 8, 9, 10, 11]\n",
    "\n",
    "non_primes = list(filter(lambda x: not is_prime(x), numbers))\n",
    "\n",
    "print(f\"Non-prime numbers: {non_primes}\")\n"
   ]
  },
  {
   "cell_type": "code",
   "execution_count": 14,
   "id": "8d899042-8931-4a52-be5a-6655b2dbbbba",
   "metadata": {},
   "outputs": [],
   "source": [
    "#22 Write a code that uses a lambda function to calculate the sum of two numbers"
   ]
  },
  {
   "cell_type": "code",
   "execution_count": 15,
   "id": "03b21eb4-9e34-4f66-95d2-7c362aa3d2be",
   "metadata": {},
   "outputs": [
    {
     "name": "stdout",
     "output_type": "stream",
     "text": [
      "The sum of 8 and 12 is 20\n"
     ]
    }
   ],
   "source": [
    "#Ans 22\n",
    "sum_two_numbers = lambda x, y: x + y\n",
    "\n",
    "number1 = 8\n",
    "number2 = 12\n",
    "result = sum_two_numbers(number1, number2)\n",
    "print(f\"The sum of {number1} and {number2} is {result}\")\n"
   ]
  },
  {
   "cell_type": "code",
   "execution_count": 16,
   "id": "566acaef-5a21-475a-be3f-c0303463923a",
   "metadata": {},
   "outputs": [],
   "source": [
    "#23 Write a code that uses a lambda function to calculate the square of a given number"
   ]
  },
  {
   "cell_type": "code",
   "execution_count": 1,
   "id": "12993304-afc9-4bd7-b138-b036d755a3b5",
   "metadata": {},
   "outputs": [
    {
     "name": "stdout",
     "output_type": "stream",
     "text": [
      "The square of 7 is 49\n"
     ]
    }
   ],
   "source": [
    "#Ans 23\n",
    "square = lambda x: x ** 2\n",
    "\n",
    "number = 7\n",
    "result = square(number)\n",
    "print(f\"The square of {number} is {result}\")\n"
   ]
  },
  {
   "cell_type": "code",
   "execution_count": 2,
   "id": "66c9adb3-be17-4e66-ba2c-38e9b1c2737a",
   "metadata": {},
   "outputs": [],
   "source": [
    "#24  Write a code that uses a lambda function to check whether a given number is even or odd"
   ]
  },
  {
   "cell_type": "code",
   "execution_count": 2,
   "id": "57479f72-5e8e-43ca-b946-5df5edf97d30",
   "metadata": {},
   "outputs": [
    {
     "name": "stdout",
     "output_type": "stream",
     "text": [
      "The number 10 is Even.\n"
     ]
    }
   ],
   "source": [
    "#Ans 24\n",
    "check_even_odd = lambda x: \"Even\" if x % 2 == 0 else \"Odd\"\n",
    "\n",
    "number = 10  # Replace with any number to test\n",
    "result = check_even_odd(number)\n",
    "print(f\"The number {number} is {result}.\")\n"
   ]
  },
  {
   "cell_type": "code",
   "execution_count": 4,
   "id": "51f3860e-9b35-49ca-93cc-5a5b06317e35",
   "metadata": {},
   "outputs": [],
   "source": [
    "#25 Write a code that uses a lambda function to concatenate two strings"
   ]
  },
  {
   "cell_type": "code",
   "execution_count": 5,
   "id": "14e434d4-cb3d-4c18-a92c-22b50311a840",
   "metadata": {},
   "outputs": [
    {
     "name": "stdout",
     "output_type": "stream",
     "text": [
      "Concatenated string: Hello, World!\n"
     ]
    }
   ],
   "source": [
    "#Ans 25\n",
    "concatenate = lambda str1, str2: str1 + str2\n",
    "\n",
    "string1 = \"Hello, \"\n",
    "string2 = \"World!\"\n",
    "result = concatenate(string1, string2)\n",
    "print(f\"Concatenated string: {result}\")\n"
   ]
  },
  {
   "cell_type": "code",
   "execution_count": 6,
   "id": "34b644c4-6aad-4206-af83-c6fa5f87558d",
   "metadata": {},
   "outputs": [],
   "source": [
    "#26 Write a code that uses a lambda function to find the maximum of three given numbers"
   ]
  },
  {
   "cell_type": "code",
   "execution_count": 7,
   "id": "ba1c1fd8-8f78-4884-b9eb-93d416d49b72",
   "metadata": {},
   "outputs": [
    {
     "name": "stdout",
     "output_type": "stream",
     "text": [
      "The maximum of 15, 30, and 25 is 30.\n"
     ]
    }
   ],
   "source": [
    "#Ans 26 \n",
    "max_of_three = lambda a, b, c: max(a, b, c)\n",
    "\n",
    "number1 = 15\n",
    "number2 = 30\n",
    "number3 = 25\n",
    "result = max_of_three(number1, number2, number3)\n",
    "print(f\"The maximum of {number1}, {number2}, and {number3} is {result}.\")\n"
   ]
  },
  {
   "cell_type": "code",
   "execution_count": 8,
   "id": "34d9bdd4-0d94-4893-a780-61ba95d826d1",
   "metadata": {},
   "outputs": [],
   "source": [
    "#27 What is encapsulation in OOP"
   ]
  },
  {
   "cell_type": "markdown",
   "id": "4c482458-81d0-45b1-a233-1c4aac0f8fac",
   "metadata": {},
   "source": [
    "#Ans 27 \n",
    "Encapsulation in object-oriented programming (OOP) is one of the core principles that aims to protect the internal state of an object from being accessed or modified directly by the outside world. It involves bundling the data (attributes) and the methods (functions) that operate on the data into a single unit called a class."
   ]
  },
  {
   "cell_type": "code",
   "execution_count": 1,
   "id": "cb9e0776-6901-4330-9b63-52fc91e470b1",
   "metadata": {},
   "outputs": [],
   "source": [
    "#28 Explain the use of access modifiers in Python classes"
   ]
  },
  {
   "cell_type": "code",
   "execution_count": 4,
   "id": "efed5793-ebe9-467e-90fd-63c4396caf49",
   "metadata": {},
   "outputs": [
    {
     "name": "stdout",
     "output_type": "stream",
     "text": [
      "Public Attribute\n",
      "Hello, Public Attribute\n",
      "Protected Attribute\n",
      "Protected Method\n",
      "Private Method\n"
     ]
    }
   ],
   "source": [
    "#Ans 28 \n",
    "\"\"\"\n",
    "Access Levels in Python\n",
    "Public (no prefix):\n",
    "\n",
    "1 -Attributes and methods without a prefix are public.\n",
    "2 - They are accessible from anywhere, both inside and outside the class.\n",
    "\n",
    "\"\"\"\n",
    "#Example \n",
    "class MyClass:\n",
    "    def __init__(self):\n",
    "        self.name = \"Public Attribute\"  \n",
    "\n",
    "    def greet(self):\n",
    "        return f\"Hello, {self.name}\" \n",
    "\n",
    "obj = MyClass()\n",
    "print(obj.name)  \n",
    "print(obj.greet()) \n",
    "\n",
    "\"\"\"\n",
    "Protected (_single_leading_underscore):\n",
    "\n",
    "Attributes and methods with a single leading underscore are considered protected by convention.\n",
    "They are intended to be accessed only within the class and its subclasses, but this is not enforced.\n",
    "\"\"\"\n",
    "#Example\n",
    "class MyClass:\n",
    "    def __init__(self):\n",
    "        self._protected_var = \"Protected Attribute\"\n",
    "\n",
    "    def _protected_method(self):\n",
    "        return \"Protected Method\"\n",
    "\n",
    "obj = MyClass()\n",
    "print(obj._protected_var)  \n",
    "print(obj._protected_method())  \n",
    "\n",
    "\"\"\"\n",
    "Private (__double_leading_underscore):\n",
    "\n",
    "Attributes and methods with a double leading underscore are private.\n",
    "Python uses name mangling to make these harder to access from outside the class. The names are internally transformed to include the class name as a prefix.\n",
    "\"\"\"\n",
    "#Example\n",
    "class MyClass:\n",
    "    def __init__(self):\n",
    "        self.__private_var = \"Private Attribute\"\n",
    "\n",
    "    def __private_method(self):\n",
    "        return \"Private Method\"\n",
    "\n",
    "    def access_private(self):\n",
    "        return self.__private_method()\n",
    "\n",
    "obj = MyClass()\n",
    "print(obj.access_private())  "
   ]
  },
  {
   "cell_type": "code",
   "execution_count": 5,
   "id": "b49b36da-6879-48ed-8348-4adceade002d",
   "metadata": {},
   "outputs": [],
   "source": [
    "#29 What is inheritance in OOP"
   ]
  },
  {
   "cell_type": "markdown",
   "id": "bfd9094c-ec92-4f72-bcd9-81a1afb89dbc",
   "metadata": {},
   "source": [
    "#Ans 29 \n",
    "Inheritance is a fundamental concept in Object-Oriented Programming (OOP) that allows a class (called the child class or subclass) to acquire the properties and behaviors of another class (called the parent class or superclass). It is used to promote code reusability, extend functionality, and establish hierarchical relationships between classes"
   ]
  },
  {
   "cell_type": "code",
   "execution_count": 6,
   "id": "0c69144e-f05f-4e91-b3d2-d619b40a42ed",
   "metadata": {},
   "outputs": [],
   "source": [
    "#30  Define polymorphism in OOP"
   ]
  },
  {
   "cell_type": "markdown",
   "id": "d8b95e13-2a86-40c2-9cee-4669596048bc",
   "metadata": {},
   "source": [
    "#Ans 30 \n",
    "Polymorphism is a key concept in Object-Oriented Programming (OOP) that allows objects of different classes to be treated as objects of a common superclass. It enables a single interface to represent different underlying forms (types). The word \"polymorphism\" comes from Greek roots meaning \"many forms.\""
   ]
  },
  {
   "cell_type": "code",
   "execution_count": 7,
   "id": "dbedf7fc-e500-4949-8708-5ff66d505786",
   "metadata": {},
   "outputs": [],
   "source": [
    "#31 Explain method overriding in Python"
   ]
  },
  {
   "cell_type": "code",
   "execution_count": 8,
   "id": "547d585e-f051-4c4c-bfc2-706fc4b3912e",
   "metadata": {},
   "outputs": [
    {
     "name": "stdout",
     "output_type": "stream",
     "text": [
      "Hello from Parent\n",
      "Hello from Child\n"
     ]
    }
   ],
   "source": [
    "#Ans 31\n",
    "\"\"\"\n",
    "Method overriding in Python is a feature in object-oriented programming that allows a subclass to provide a specific implementation of a method that is already defined in its parent class. The overridden method in the subclass has the same name, parameters, and return type as the method in the parent class.\n",
    "\n",
    "When the method is called on an object of the subclass, the version defined in the subclass is executed, effectively replacing or \"overriding\" the parent class's version for that object.\n",
    "\n",
    "\"\"\"\n",
    "\n",
    "\n",
    "class Parent:\n",
    "    def greet(self):\n",
    "        return \"Hello from Parent\"\n",
    "\n",
    "class Child(Parent):\n",
    "    def greet(self):\n",
    "        return \"Hello from Child\"\n",
    "\n",
    "parent = Parent()\n",
    "child = Child()\n",
    "\n",
    "print(parent.greet())  \n",
    "print(child.greet())   \n"
   ]
  },
  {
   "cell_type": "code",
   "execution_count": 10,
   "id": "4d92248e-3bd4-4d95-bd6a-eaae0345e60f",
   "metadata": {},
   "outputs": [],
   "source": [
    "#32 Define a parent class Animal with a method make_sound that prints \"Generic animal sound\". Create a child class Dog inheriting from Animal with a method make_sound that prints \"Woof\""
   ]
  },
  {
   "cell_type": "code",
   "execution_count": 11,
   "id": "25955435-c862-4b31-9b82-4054ba3ff0d1",
   "metadata": {},
   "outputs": [
    {
     "name": "stdout",
     "output_type": "stream",
     "text": [
      "Generic animal sound\n",
      "Woof!\n"
     ]
    }
   ],
   "source": [
    "class Animal:\n",
    "    def make_sound(self):\n",
    "        print(\"Generic animal sound\")\n",
    "\n",
    "class Dog(Animal):\n",
    "    def make_sound(self):\n",
    "        print(\"Woof!\")\n",
    "\n",
    "# Example usage\n",
    "generic_animal = Animal()\n",
    "dog = Dog()\n",
    "\n",
    "generic_animal.make_sound()  \n",
    "dog.make_sound()             \n"
   ]
  },
  {
   "cell_type": "code",
   "execution_count": 12,
   "id": "dda715e8-b90c-4407-8bc3-d09ddf63902c",
   "metadata": {},
   "outputs": [],
   "source": [
    "#33  Define a method move in the Animal class that prints \"Animal moves\". Override the move method in the Dog class to print \"Dog runs."
   ]
  },
  {
   "cell_type": "code",
   "execution_count": 13,
   "id": "3c60b48a-1184-4eb9-84a0-3147038e0898",
   "metadata": {},
   "outputs": [
    {
     "name": "stdout",
     "output_type": "stream",
     "text": [
      "Animal moves\n",
      "Dog runs\n"
     ]
    }
   ],
   "source": [
    "#Ans 33\n",
    "class Animal:\n",
    "    def make_sound(self):\n",
    "        print(\"Generic animal sound\")\n",
    "    \n",
    "    def move(self):\n",
    "        print(\"Animal moves\")\n",
    "\n",
    "class Dog(Animal):\n",
    "    def make_sound(self):\n",
    "        print(\"Woof!\")\n",
    "    \n",
    "    def move(self):\n",
    "        print(\"Dog runs\")\n",
    "\n",
    "generic_animal = Animal()\n",
    "dog = Dog()\n",
    "\n",
    "generic_animal.move()  \n",
    "dog.move()             "
   ]
  },
  {
   "cell_type": "code",
   "execution_count": 14,
   "id": "67583ced-9335-4634-bbb8-5a2ff1aa5eaf",
   "metadata": {},
   "outputs": [],
   "source": [
    "#34 Create a class Mammal with a method reproduce that prints \"Giving birth to live young.\" Create a class DogMammal inheriting from both Dog and Mammal"
   ]
  },
  {
   "cell_type": "code",
   "execution_count": 15,
   "id": "6f7be590-9b98-4166-aca2-a41327f26a31",
   "metadata": {},
   "outputs": [
    {
     "name": "stdout",
     "output_type": "stream",
     "text": [
      "Woof!\n",
      "Dog runs\n",
      "Giving birth to live young\n"
     ]
    }
   ],
   "source": [
    "#Ans 34 \n",
    "class Animal:\n",
    "    def make_sound(self):\n",
    "        print(\"Generic animal sound\")\n",
    "    \n",
    "    def move(self):\n",
    "        print(\"Animal moves\")\n",
    "\n",
    "class Dog(Animal):\n",
    "    def make_sound(self):\n",
    "        print(\"Woof!\")\n",
    "    \n",
    "    def move(self):\n",
    "        print(\"Dog runs\")\n",
    "\n",
    "class Mammal:\n",
    "    def reproduce(self):\n",
    "        print(\"Giving birth to live young\")\n",
    "\n",
    "class DogMammal(Dog, Mammal):\n",
    "    pass\n",
    "\n",
    "# Example usage\n",
    "dog_mammal = DogMammal()\n",
    "\n",
    "dog_mammal.make_sound()  \n",
    "dog_mammal.move()        \n",
    "dog_mammal.reproduce()   \n"
   ]
  },
  {
   "cell_type": "code",
   "execution_count": 16,
   "id": "639eba48-8b19-4c74-b9d6-6fd737f4e0de",
   "metadata": {},
   "outputs": [],
   "source": [
    "# 35 Create a class GermanShepherd inheriting from Dog and override the make_sound method to print \"Bark!\""
   ]
  },
  {
   "cell_type": "code",
   "execution_count": 17,
   "id": "0ef87297-b293-4af3-b0d9-375900d2fdcc",
   "metadata": {},
   "outputs": [
    {
     "name": "stdout",
     "output_type": "stream",
     "text": [
      "Woof!\n",
      "Bark!\n"
     ]
    }
   ],
   "source": [
    "#Ans35 \n",
    "class Animal:\n",
    "    def make_sound(self):\n",
    "        print(\"Generic animal sound\")\n",
    "    \n",
    "    def move(self):\n",
    "        print(\"Animal moves\")\n",
    "\n",
    "class Dog(Animal):\n",
    "    def make_sound(self):\n",
    "        print(\"Woof!\")\n",
    "    \n",
    "    def move(self):\n",
    "        print(\"Dog runs\")\n",
    "\n",
    "class GermanShepherd(Dog):\n",
    "    def make_sound(self):\n",
    "        print(\"Bark!\")\n",
    "\n",
    "\n",
    "generic_dog = Dog()\n",
    "german_shepherd = GermanShepherd()\n",
    "\n",
    "generic_dog.make_sound()       \n",
    "german_shepherd.make_sound()   \n"
   ]
  },
  {
   "cell_type": "code",
   "execution_count": 18,
   "id": "9e530328-ad92-41d2-a789-6536f046d0a2",
   "metadata": {},
   "outputs": [],
   "source": [
    "#36 Define constructors in both the Animal and Dog classes with different initialization parameters"
   ]
  },
  {
   "cell_type": "code",
   "execution_count": 20,
   "id": "da70d64d-8096-4b65-af82-3b908b6219fc",
   "metadata": {},
   "outputs": [
    {
     "name": "stdout",
     "output_type": "stream",
     "text": [
      "Animal Species: Generic Animal\n",
      "Dog Species: Canine, Breed: Labrador\n",
      "Generic animal sound\n",
      "Woof!\n"
     ]
    }
   ],
   "source": [
    "#Ans36 \n",
    "class Animal:\n",
    "    def __init__(self, species):\n",
    "        self.species = species\n",
    "    \n",
    "    def make_sound(self):\n",
    "        print(\"Generic animal sound\")\n",
    "    \n",
    "    def move(self):\n",
    "        print(\"Animal moves\")\n",
    "\n",
    "class Dog(Animal):\n",
    "    def __init__(self, species, breed):\n",
    "        \n",
    "        super().__init__(species)\n",
    "        self.breed = breed\n",
    "    \n",
    "    def make_sound(self):\n",
    "        print(\"Woof!\")\n",
    "    \n",
    "    def move(self):\n",
    "        print(\"Dog runs\")\n",
    "\n",
    "\n",
    "generic_animal = Animal(\"Generic Animal\")\n",
    "dog = Dog(\"Canine\", \"Labrador\")\n",
    "\n",
    "print(f\"Animal Species: {generic_animal.species}\")  \n",
    "print(f\"Dog Species: {dog.species}, Breed: {dog.breed}\")  \n",
    "\n",
    "generic_animal.make_sound()  \n",
    "dog.make_sound()             \n"
   ]
  },
  {
   "cell_type": "code",
   "execution_count": 21,
   "id": "a31f9e61-f1cc-487b-9209-50097ab1eefd",
   "metadata": {},
   "outputs": [],
   "source": [
    "#37 What is abstraction in Python? How is it implemented"
   ]
  },
  {
   "cell_type": "markdown",
   "id": "c330c124-b549-438a-b38f-a14f5066e503",
   "metadata": {},
   "source": [
    "#Ans 37\n",
    " Abstraction in Python is a fundamental concept in Object-Oriented Programming (OOP) that focuses on hiding the internal \n",
    "#implementation details of a class and exposing only the necessary functionalities. It allows you to define a blueprint for \n",
    "#behavior while leaving specific implementations to derived classes.\n",
    "\n",
    "How Abstraction is Implemented in Python\n",
    "Python supports abstraction through:\n",
    "\n",
    "\n",
    "Abstract classes and methods are implemented using the abc module (Abstract Base Classes).\n",
    "\n",
    "Abstract Classes\n",
    "An abstract class is a class that cannot be instantiated. It serves as a template for other classes to inherit from.\n",
    "\n",
    "Abstract Methods\n",
    "An abstract method is a method that is declared but does not contain any implementation. Subclasses must override and implement all abstract methods to be instantiated."
   ]
  },
  {
   "cell_type": "code",
   "execution_count": 22,
   "id": "78c0271a-221f-4139-bcd6-e75f5c377050",
   "metadata": {},
   "outputs": [],
   "source": [
    "#38  Explain the importance of abstraction in object-oriented programming"
   ]
  },
  {
   "cell_type": "markdown",
   "id": "a0a4ebb3-bf95-4655-8fea-1ddf67146e72",
   "metadata": {},
   "source": [
    "#Ans 38 \n",
    "Abstraction is a cornerstone of object-oriented programming (OOP) that simplifies complex systems by modeling them in a way that focuses on the essential details while hiding the unnecessary ones. Here's why abstraction is crucial in OOP:\n",
    "\n",
    "1. Simplifies Complex Systems\n",
    "Abstraction allows developers to focus on what an object does rather than how it does it. This makes complex systems easier to understand, design, and manage.\n",
    "By modeling real-world entities with only the necessary attributes and behaviors, it becomes simpler to handle large-scale projects.\n",
    "2. Enhances Maintainability\n",
    "Changes in implementation details can be made without affecting the external interface of the object. This separation of concerns reduces the ripple effect of modifications, making the system easier to maintain.\n",
    "3. Improves Reusability\n",
    "Abstract classes and interfaces define contracts that can be reused across different parts of a program or in different programs, promoting code reusability and reducing duplication.\n",
    "4. Facilitates Scalability\n",
    "With abstraction, developers can add new functionality or extend systems without altering the existing structure. This ensures scalability as the system grows.\n",
    "5. Encourages Modularity\n",
    "By defining distinct, abstract components, systems can be broken into smaller, manageable modules. Each module can be developed, tested, and debuged independently.\n",
    "6. Promotes Encapsulation\n",
    "Abstraction naturally leads to encapsulation by hiding the internal workings of an object and exposing only what is necessary. This protects the integrity of the object and prevents unintended interference."
   ]
  },
  {
   "cell_type": "code",
   "execution_count": 1,
   "id": "1d0e6132-d813-45b1-8e2c-9e2132d039d0",
   "metadata": {},
   "outputs": [],
   "source": [
    "#39 How are abstract methods different from regular methods in Python"
   ]
  },
  {
   "cell_type": "markdown",
   "id": "e68c6beb-4cc6-45d8-a62c-60862f07b6c7",
   "metadata": {},
   "source": [
    "Ans 39\n",
    "Abstract methods differ from regular methods in Python in several key ways. Below is an explanation of the differences:\n",
    "\n",
    "1. Definition\n",
    "Abstract Methods:\n",
    "Declared in an abstract base class (ABC) using the @abstractmethod decorator.\n",
    "Do not have a body (implementation) in the abstract class.\n",
    "Serve as a blueprint for derived classes, which must implement these methods.\n",
    "Regular Methods:\n",
    "Contain a method body (implementation) and can be fully defined in any class.\n",
    "Can be directly used by instances of the class where they are defined.\n",
    "2. Purpose\n",
    "Abstract Methods:\n",
    "Enforce a contract for subclasses to implement specific behaviors.\n",
    "Ensure that derived classes provide their implementation of the method.\n",
    "Regular Methods:\n",
    "Provide functionality that can be used as-is or overridden by subclasses if needed.\n",
    "3. Usage\n",
    "Abstract Methods:\n",
    "Cannot be instantiated directly through the class in which they are defined.\n",
    "Must be implemented in concrete subclasses; otherwise, the subclass also becomes abstract and cannot be instantiated.\n",
    "Regular Methods:\n",
    "Can be directly used by instances of the class without requiring additional implementation.\n",
    "4. Instantiation\n",
    "Abstract Methods:\n",
    "Classes containing abstract methods are incomplete and cannot be instantiated unless all abstract methods are implemented in a subclass.\n",
    "Regular Methods:\n",
    "Classes with only regular methods can be instantiated freely."
   ]
  },
  {
   "cell_type": "code",
   "execution_count": 2,
   "id": "38e4228d-dafc-4397-8ace-8a2026ca4c25",
   "metadata": {},
   "outputs": [],
   "source": [
    "#40 How can you achieve abstraction using interfaces in Python"
   ]
  },
  {
   "cell_type": "markdown",
   "id": "01928605-e9e2-4c50-b306-42a9efe2dba4",
   "metadata": {},
   "source": [
    "Ans 40 :\n",
    "In Python, interfaces are not explicitly defined as they are in some other programming languages like Java. However, you can achieve abstraction using abstract base classes (ABCs) and the @abstractmethod decorator provided by the abc module. ABCs serve as a way to define interfaces and enforce that derived classes implement specific methods"
   ]
  },
  {
   "cell_type": "code",
   "execution_count": 3,
   "id": "d9b4c7cf-30f5-4637-9e3c-6cd2ec51adf4",
   "metadata": {},
   "outputs": [],
   "source": [
    "#41 Can you provide an example of how abstraction can be utilized to create a common interface for a group of related classes in Python"
   ]
  },
  {
   "cell_type": "code",
   "execution_count": 5,
   "id": "5eca0efb-f94c-4c00-a48f-4d8781566a58",
   "metadata": {},
   "outputs": [
    {
     "name": "stdout",
     "output_type": "stream",
     "text": [
      "\n",
      "Using CreditCardProcessor:\n",
      "Authorizing credit card payment of $100.0\n",
      "Processing credit card payment of $100.0\n",
      "\n",
      "Using PayPalProcessor:\n",
      "Authorizing PayPal payment of $100.0\n",
      "Processing PayPal payment of $100.0\n",
      "\n",
      "Using BankTransferProcessor:\n",
      "Authorizing bank transfer for $100.0\n",
      "Processing bank transfer of $100.0\n"
     ]
    }
   ],
   "source": [
    "#Ans 41\n",
    "#step 1\n",
    "# The abstract base class defines the common interface that all payment methods must adhere to\n",
    "from abc import ABC, abstractmethod\n",
    "\n",
    "class PaymentProcessor(ABC):\n",
    "    @abstractmethod\n",
    "    def authorize_payment(self, amount):\n",
    "        \"\"\"Authorize a payment for the given amount\"\"\"\n",
    "        pass\n",
    "\n",
    "    @abstractmethod\n",
    "    def process_payment(self, amount):\n",
    "        \"\"\"Process the payment for the given amount\"\"\"\n",
    "        pass\n",
    "#Step 2: Implement Concrete Classes\n",
    "# Each concrete class represents a specific payment method and implements the abstract methods defined in the base class.\n",
    "class CreditCardProcessor(PaymentProcessor):\n",
    "    def authorize_payment(self, amount):\n",
    "        print(f\"Authorizing credit card payment of ${amount}\")\n",
    "        return True\n",
    "\n",
    "    def process_payment(self, amount):\n",
    "        print(f\"Processing credit card payment of ${amount}\")\n",
    "        return True\n",
    "\n",
    "class PayPalProcessor(PaymentProcessor):\n",
    "    def authorize_payment(self, amount):\n",
    "        print(f\"Authorizing PayPal payment of ${amount}\")\n",
    "        return True\n",
    "\n",
    "    def process_payment(self, amount):\n",
    "        print(f\"Processing PayPal payment of ${amount}\")\n",
    "        return True\n",
    "\n",
    "class BankTransferProcessor(PaymentProcessor):\n",
    "    def authorize_payment(self, amount):\n",
    "        print(f\"Authorizing bank transfer for ${amount}\")\n",
    "        return True\n",
    "\n",
    "    def process_payment(self, amount):\n",
    "        print(f\"Processing bank transfer of ${amount}\")\n",
    "        return True\n",
    "#Step 3: Use the Common Interface\n",
    "#The abstract base class allows polymorphic behavior, so you can work with different payment processors interchangeably.\n",
    "def process_customer_payment(processor: PaymentProcessor, amount: float):\n",
    "    if processor.authorize_payment(amount):\n",
    "        processor.process_payment(amount)\n",
    "    else:\n",
    "        print(\"Payment authorization failed.\")\n",
    "\n",
    "# Usage\n",
    "payment_methods = [\n",
    "    CreditCardProcessor(),\n",
    "    PayPalProcessor(),\n",
    "    BankTransferProcessor()\n",
    "]\n",
    "\n",
    "amount_to_pay = 100.0\n",
    "for method in payment_methods:\n",
    "    print(f\"\\nUsing {method.__class__.__name__}:\")\n",
    "    process_customer_payment(method, amount_to_pay)\n",
    "\n"
   ]
  },
  {
   "cell_type": "code",
   "execution_count": 6,
   "id": "557b994b-fea3-4ceb-9644-ded000129280",
   "metadata": {},
   "outputs": [],
   "source": [
    " #42 How does Python achieve polymorphism through method overriding"
   ]
  },
  {
   "cell_type": "markdown",
   "id": "3d294698-56f9-4a57-9e1b-ba9deb372ea3",
   "metadata": {},
   "source": [
    "Python achieves polymorphism through method overriding by allowing subclasses to provide a specific implementation of a method that is already defined in a parent class. This enables the same method name to perform different behaviors depending on the context (i.e., the type of the object invoking the method). Polymorphism in this sense promotes flexibility and reusability in object-oriented programming."
   ]
  },
  {
   "cell_type": "code",
   "execution_count": 7,
   "id": "3f482796-d361-4ace-a29e-f7d19ffddec9",
   "metadata": {},
   "outputs": [],
   "source": [
    "#43 Define a base class with a method and a subclass that overrides the method"
   ]
  },
  {
   "cell_type": "code",
   "execution_count": 13,
   "id": "68a95145-57d6-4142-82ab-0c78dba3b894",
   "metadata": {},
   "outputs": [
    {
     "name": "stdout",
     "output_type": "stream",
     "text": [
      "This is a generic vehicle.\n",
      "This is a car, a type of vehicle.\n"
     ]
    }
   ],
   "source": [
    "# Base Class:\n",
    "class Vehicle:\n",
    "    def description(self):\n",
    "        return \"This is a generic vehicle.\"\n",
    "#Subclass:\n",
    "class Car(Vehicle):\n",
    "    def description(self):\n",
    "        return \"This is a car, a type of vehicle.\"\n",
    "\n",
    "\n",
    "generic_vehicle = Vehicle()\n",
    "specific_vehicle = Car()\n",
    "\n",
    "\n",
    "print(generic_vehicle.description())  \n",
    "print(specific_vehicle.description())  "
   ]
  },
  {
   "cell_type": "code",
   "execution_count": 14,
   "id": "828dbfea-e130-49d9-b635-880ae9e2779c",
   "metadata": {},
   "outputs": [],
   "source": [
    "#44  Define a base class and multiple subclasses with overridden methods"
   ]
  },
  {
   "cell_type": "code",
   "execution_count": 18,
   "id": "4a85b423-b60c-4ecc-b169-05dd35a438e2",
   "metadata": {},
   "outputs": [
    {
     "name": "stdout",
     "output_type": "stream",
     "text": [
      "Bark\n",
      "Meow\n",
      "Moo\n"
     ]
    }
   ],
   "source": [
    "# Ans 44\n",
    "# Example: Base Class and Multiple Subclasses with Method Overriding\n",
    "# Base Class:\n",
    "class Animal:\n",
    "    def speak(self):\n",
    "        return \"This animal makes a sound.\"\n",
    "# Subclasses:\n",
    "class Dog(Animal):\n",
    "    def speak(self):\n",
    "        return \"Bark\"\n",
    "\n",
    "class Cat(Animal):\n",
    "    def speak(self):\n",
    "        return \"Meow\"\n",
    "\n",
    "class Cow(Animal):\n",
    "    def speak(self):\n",
    "        return \"Moo\"\n",
    "\n",
    "dog = Dog()\n",
    "cat = Cat()\n",
    "cow = Cow()\n",
    "\n",
    "print(dog.speak())  \n",
    "print(cat.speak())  \n",
    "print(cow.speak())  \n"
   ]
  },
  {
   "cell_type": "code",
   "execution_count": 19,
   "id": "efd69078-a1f6-428a-a991-868aa7f4a9db",
   "metadata": {},
   "outputs": [],
   "source": [
    "#45 How does polymorphism improve code readability and reusability"
   ]
  },
  {
   "cell_type": "code",
   "execution_count": 20,
   "id": "24beb578-6ea2-4901-851b-3ecc813a9053",
   "metadata": {},
   "outputs": [
    {
     "name": "stdout",
     "output_type": "stream",
     "text": [
      "Bark\n",
      "Meow\n",
      "Bark\n",
      "Meow\n"
     ]
    }
   ],
   "source": [
    "#Polymorphism significantly improves code readability and reusability by enabling the same interface to work with different \n",
    "# types of objects, making the code more flexible and easier to maintain. Here's how it achieves this:\n",
    "\n",
    "#1. Common Interface for Different Behaviors\n",
    "# Polymorphism allows different classes to implement the same method, providing distinct behaviors while maintaining a consistent interface.\n",
    "# This abstraction simplifies understanding, as the programmer focuses on what an object can do, not its specific implementation.\n",
    "class Animal:\n",
    "    def speak(self):\n",
    "        raise NotImplementedError(\"Subclasses must implement this method\")\n",
    "\n",
    "class Dog(Animal):\n",
    "    def speak(self):\n",
    "        return \"Bark\"\n",
    "\n",
    "class Cat(Animal):\n",
    "    def speak(self):\n",
    "        return \"Meow\"\n",
    "\n",
    "# Polymorphic behavior\n",
    "def animal_sound(animal: Animal):\n",
    "    print(animal.speak())\n",
    "\n",
    "# Works with any subclass of Animal\n",
    "animals = [Dog(), Cat()]\n",
    "for animal in animals:\n",
    "    animal_sound(animal)\n",
    "    \n",
    "#2. Reduces Redundancy\n",
    "#Polymorphism eliminates the need for repetitive code structures by providing a single, general method to handle different types of objects.\n",
    "# Without Polymorphism:\n",
    "dog = Dog()\n",
    "cat = Cat()\n",
    "\n",
    "if isinstance(dog, Dog):\n",
    "    print(dog.speak())\n",
    "\n",
    "if isinstance(cat, Cat):\n",
    "    print(cat.speak())\n"
   ]
  },
  {
   "cell_type": "code",
   "execution_count": 21,
   "id": "777b27e2-b80b-427d-a596-558db6e51329",
   "metadata": {},
   "outputs": [],
   "source": [
    "#46 Describe how Python supports polymorphism with duck typing"
   ]
  },
  {
   "cell_type": "code",
   "execution_count": 24,
   "id": "bd7b57c2-3a3a-455a-a492-22af0e1194fd",
   "metadata": {},
   "outputs": [
    {
     "name": "stdout",
     "output_type": "stream",
     "text": [
      "Bark\n",
      "Meow\n"
     ]
    }
   ],
   "source": [
    "# Python supports polymorphism through duck typing, a concept derived from the saying:\n",
    "#\"If it looks like a duck, swims like a duck, and quacks like a duck, then it probably is a duck.\"\n",
    "# Duck typing is a feature of dynamically typed languages like Python, where the type or class of an object is determined by its behavior (methods and attributes) rather than its explicit type.\n",
    "\n",
    "# How Duck Typing Enables Polymorphism\n",
    "#Duck typing allows Python to perform polymorphic behavior without requiring objects to share a common base\n",
    "#class or implement a formal interface. As long as an object provides the required methods or attributes, \n",
    "#it can be used interchangeably in the same context.\n",
    "class Dog:\n",
    "    def speak(self):\n",
    "        return \"Bark\"\n",
    "\n",
    "class Cat:\n",
    "    def speak(self):\n",
    "        return \"Meow\"\n",
    "\n",
    "def make_animal_speak(animal):\n",
    "    print(animal.speak())\n",
    "\n",
    "dog = Dog()\n",
    "cat = Cat()\n",
    "\n",
    "make_animal_speak(dog)  \n",
    "make_animal_speak(cat)  \n",
    "\n",
    "\n"
   ]
  },
  {
   "cell_type": "code",
   "execution_count": 25,
   "id": "833458f8-6560-44b6-b43a-ebabb06bad2a",
   "metadata": {},
   "outputs": [],
   "source": [
    "#47 How do you achieve encapsulation in Python"
   ]
  },
  {
   "cell_type": "code",
   "execution_count": 26,
   "id": "9260dd35-9c36-429b-b55e-26b076161212",
   "metadata": {},
   "outputs": [
    {
     "name": "stdout",
     "output_type": "stream",
     "text": [
      "Alice\n",
      "50000\n",
      "Manager Name: Bob, Salary: 80000\n",
      "Bob\n"
     ]
    }
   ],
   "source": [
    "#Encapsulation in Python is achieved by restricting access to certain attributes or methods of a class, thereby preventing unintended interference and misuse. It allows a class to hide its internal implementation details while exposing a controlled interface to interact with the class.\n",
    "\n",
    "#Python achieves encapsulation through:\n",
    "\n",
    "#Access Modifiers: These define the visibility of class members (attributes and methods).\n",
    "\n",
    "#Public (no underscore)\n",
    "#Protected (_single_leading_underscore)\n",
    "#Private (__double_leading_underscore)\n",
    "#Getter and Setter Methods: These control how attributes are accessed or modified.\n",
    "\n",
    "#1. Public Members\n",
    "#Public members are accessible from anywhere—inside or outside the class.\n",
    "\n",
    "class Employee:\n",
    "    def __init__(self, name, salary):\n",
    "        self.name = name  # Public attribute\n",
    "        self.salary = salary  # Public attribute\n",
    "\n",
    "emp = Employee(\"Alice\", 50000)\n",
    "print(emp.name)  # Accessible\n",
    "print(emp.salary)  # Accessible\n",
    "\n",
    "#2. Protected Members\n",
    "#Protected members are prefixed with a single underscore (_) and are intended to be accessed only within \n",
    "#the class and its subclasses. However, this is just a convention; they are still accessible outside the class.\n",
    "\n",
    "class Employee:\n",
    "    def __init__(self, name, salary):\n",
    "        self._name = name  # Protected attribute\n",
    "        self._salary = salary  # Protected attribute\n",
    "\n",
    "class Manager(Employee):\n",
    "    def display(self):\n",
    "        return f\"Manager Name: {self._name}, Salary: {self._salary}\"\n",
    "\n",
    "mgr = Manager(\"Bob\", 80000)\n",
    "print(mgr.display())  # Accessible in subclass\n",
    "print(mgr._name)  # Still accessible but discouraged\n"
   ]
  },
  {
   "cell_type": "code",
   "execution_count": 27,
   "id": "8585883e-52e7-4625-99e4-c8fd49dc941c",
   "metadata": {},
   "outputs": [],
   "source": [
    "#48 Can encapsulation be bypassed in Python? If so, how?"
   ]
  },
  {
   "cell_type": "markdown",
   "id": "409ef555-4a0c-4c26-b3a7-279b8dbe2217",
   "metadata": {},
   "source": [
    "#Yes, encapsulation in Python can be bypassed, primarily due to the language's dynamic nature and its lack of strict enforcement on access modifiers. While Python offers mechanisms to control access to class members (like public, protected, and private attributes), these are not enforced by the language and can be bypassed if desired. Here are ways to bypass encapsulation in Python:"
   ]
  },
  {
   "cell_type": "code",
   "execution_count": 29,
   "id": "04c2fbd6-528a-48d6-9e77-14fe48a51740",
   "metadata": {},
   "outputs": [
    {
     "ename": "AttributeError",
     "evalue": "'Employee' object has no attribute '__name'",
     "output_type": "error",
     "traceback": [
      "\u001b[1;31m---------------------------------------------------------------------------\u001b[0m",
      "\u001b[1;31mAttributeError\u001b[0m                            Traceback (most recent call last)",
      "Cell \u001b[1;32mIn[29], line 12\u001b[0m\n\u001b[0;32m      9\u001b[0m emp \u001b[38;5;241m=\u001b[39m Employee(\u001b[38;5;124m\"\u001b[39m\u001b[38;5;124mDiana\u001b[39m\u001b[38;5;124m\"\u001b[39m, \u001b[38;5;241m70000\u001b[39m)\n\u001b[0;32m     11\u001b[0m \u001b[38;5;66;03m# Bypassing encapsulation\u001b[39;00m\n\u001b[1;32m---> 12\u001b[0m \u001b[38;5;28mprint\u001b[39m(\u001b[43memp\u001b[49m\u001b[38;5;241;43m.\u001b[39;49m\u001b[43m__name\u001b[49m)  \u001b[38;5;66;03m# Accessing private attribute directly\u001b[39;00m\n",
      "\u001b[1;31mAttributeError\u001b[0m: 'Employee' object has no attribute '__name'"
     ]
    }
   ],
   "source": [
    "#1. Direct Attribute Access\n",
    "#Python allows direct access to attributes of objects, even if they are marked as private (__attribute).\n",
    "#This can bypass encapsulation if the developer knows about the private members and how to access them:\n",
    "class Employee:\n",
    "    def __init__(self, name, salary):\n",
    "        self.__name = name  # Private attribute\n",
    "        self.__salary = salary  # Private attribute\n",
    "\n",
    "emp = Employee(\"Diana\", 70000)\n",
    "\n",
    "# Bypassing encapsulation\n",
    "print(emp.__name)  # Accessing private attribute directly\n"
   ]
  },
  {
   "cell_type": "code",
   "execution_count": 31,
   "id": "83ecdf48-47e7-44a4-8adf-e2761e5b7af9",
   "metadata": {},
   "outputs": [
    {
     "name": "stdout",
     "output_type": "stream",
     "text": [
      "Diana\n"
     ]
    }
   ],
   "source": [
    "print(emp._Employee__name)  # Accessing private attribute using name mangling\n"
   ]
  },
  {
   "cell_type": "code",
   "execution_count": 32,
   "id": "e11be1e7-33f3-4a24-bac2-448804d4b25f",
   "metadata": {},
   "outputs": [
    {
     "name": "stdout",
     "output_type": "stream",
     "text": [
      "Eve\n"
     ]
    }
   ],
   "source": [
    "#2. Using Reflection\n",
    "#Python’s getattr() and setattr() functions allow you to access and modify attributes dynamically. This can bypass the standard access control\n",
    "class Employee:\n",
    "    def __init__(self, name, salary):\n",
    "        self.__name = name\n",
    "        self.__salary = salary\n",
    "\n",
    "emp = Employee(\"Diana\", 70000)\n",
    "\n",
    "# Bypassing encapsulation using setattr()\n",
    "setattr(emp, '_Employee__name', \"Eve\")\n",
    "print(emp._Employee__name) \n"
   ]
  },
  {
   "cell_type": "code",
   "execution_count": 33,
   "id": "fdf135f2-e27f-408a-ba5c-f284a8bda32d",
   "metadata": {},
   "outputs": [],
   "source": [
    "#49  Implement a class BankAccount with a private balance attribute. Include methods to deposit, withdraw, and check the balance"
   ]
  },
  {
   "cell_type": "code",
   "execution_count": 34,
   "id": "ca3f5f19-8b55-4ef3-bd68-50f0d72b61ab",
   "metadata": {},
   "outputs": [],
   "source": [
    "#Ans 49 \n",
    "class BankAccount:\n",
    "    def __init__(self, initial_balance=0):\n",
    "        self.__balance = initial_balance\n",
    "\n",
    "    def deposit(self, amount):\n",
    "        if amount <= 0:\n",
    "            raise ValueError(\"Deposit amount must be positive.\")\n",
    "        self.__balance += amount\n",
    "\n",
    "    def withdraw(self, amount):\n",
    "        if amount <= 0:\n",
    "            raise ValueError(\"Withdrawal amount must be positive.\")\n",
    "        if amount > self.__balance:\n",
    "            raise ValueError(\"Insufficient funds.\")\n",
    "        self.__balance -= amount\n",
    "\n",
    "    def check_balance(self):\n",
    "        return self.__balance\n"
   ]
  },
  {
   "cell_type": "code",
   "execution_count": 35,
   "id": "4fc5bef3-2753-4ae9-9c44-d06ec955800d",
   "metadata": {},
   "outputs": [],
   "source": [
    "#50  Develop a Person class with private attributes name and email, and methods to set and get the email"
   ]
  },
  {
   "cell_type": "code",
   "execution_count": 36,
   "id": "34b22cdd-80e8-4a52-8c6d-f663a6dabd15",
   "metadata": {},
   "outputs": [],
   "source": [
    "class Person:\n",
    "    def __init__(self, name, email):\n",
    "        self.__name = name\n",
    "        self.__email = email\n",
    "\n",
    "    def set_email(self, new_email):\n",
    "        if '@' not in new_email or '.' not in new_email.split('@')[1]:\n",
    "            raise ValueError(\"Invalid email address.\")\n",
    "        self.__email = new_email\n",
    "\n",
    "    def get_email(self):\n",
    "        return self.__email\n",
    "\n",
    "    def get_name(self):\n",
    "        return self.__name\n"
   ]
  },
  {
   "cell_type": "code",
   "execution_count": 1,
   "id": "69ed6dec-3512-4696-ae47-b6c1ce6d1bea",
   "metadata": {},
   "outputs": [],
   "source": [
    "#51 Why is encapsulation considered a pillar of object-oriented programming (OOP)"
   ]
  },
  {
   "cell_type": "markdown",
   "id": "eb783424-aee9-49e7-a883-0cca37b677bd",
   "metadata": {},
   "source": [
    "#Ans 51\n",
    "Encapsulation is considered one of the foundational pillars of object-oriented programming (OOP) because it promotes modularity, maintainability, and security in software design. Here's why encapsulation is so essential in OOP:\n",
    "\n",
    "1. Data Hiding\n",
    "Encapsulation allows you to restrict access to certain parts of an object’s data or implementation details. This is typically achieved by marking variables as private or protected and exposing only what is necessary through public methods (getters and setters).\n",
    "By hiding internal details, encapsulation reduces the risk of accidental interference or misuse of an object’s internal state.\n",
    "2. Control Over Data Access\n",
    "Encapsulation gives the developer control over how external entities interact with the object. You can validate inputs, enforce constraints, or restrict certain actions, ensuring the object remains in a valid and consistent state.\n",
    "3. Modularity\n",
    "Encapsulation promotes modularity by isolating the internal workings of a class. This separation makes it easier to understand, develop, and debug specific parts of a system without needing to worry about the details of other components.\n",
    "4. Ease of Maintenance\n",
    "Because the internal implementation details of a class are hidden, changes to those details can be made without affecting external code that relies on the class. This makes systems easier to maintain and extend.\n",
    "5. Improved Security\n",
    "Encapsulation can safeguard critical data and logic by preventing direct access or unintended modifications. This is particularly important in systems where data integrity and security are crucial.\n",
    "6. Increased Reusability\n",
    "Encapsulated classes can often be reused in different programs or contexts because they expose only the necessary parts of their interface and keep the rest private. This reduces dependencies and coupling between classes.\n",
    "7. Abstraction Synergy\n",
    "Encapsulation works hand-in-hand with abstraction, another OOP pillar. While abstraction focuses on exposing only the relevant features of an object, encapsulation ensures that the underlying implementation of those features is hidden and protected."
   ]
  },
  {
   "cell_type": "code",
   "execution_count": 2,
   "id": "c4ad270b-f4f3-4716-90a6-0543c196b5ea",
   "metadata": {},
   "outputs": [],
   "source": [
    "#52 Create a decorator in Python that adds functionality to a simple function by printing a message before and after the function execution"
   ]
  },
  {
   "cell_type": "code",
   "execution_count": 3,
   "id": "1cf9dc9f-1830-4e57-a2e4-39a98f6bef10",
   "metadata": {},
   "outputs": [
    {
     "name": "stdout",
     "output_type": "stream",
     "text": [
      "Before executing the function...\n",
      "Hello, Alice!\n",
      "After executing the function...\n"
     ]
    }
   ],
   "source": [
    "#Ans 52 \n",
    "def message_decorator(func):\n",
    "    def wrapper(*args, **kwargs):\n",
    "        print(\"Before executing the function...\")\n",
    "        result = func(*args, **kwargs)\n",
    "        print(\"After executing the function...\")\n",
    "        return result\n",
    "    return wrapper\n",
    "@message_decorator\n",
    "def say_hello(name):\n",
    "    print(f\"Hello, {name}!\")\n",
    "\n",
    "say_hello(\"Alice\")\n"
   ]
  },
  {
   "cell_type": "code",
   "execution_count": 4,
   "id": "f028f1b2-034a-419a-8f12-8632a8aa59c9",
   "metadata": {},
   "outputs": [],
   "source": [
    "#53 Modify the decorator to accept arguments and print the function name along with the message"
   ]
  },
  {
   "cell_type": "code",
   "execution_count": 8,
   "id": "017ca83d-7258-4408-abd6-cbda3b09948d",
   "metadata": {},
   "outputs": [
    {
     "name": "stdout",
     "output_type": "stream",
     "text": [
      "INFO - Before executing greet...\n",
      "Hello, Alice!\n",
      "INFO - After executing greet...\n",
      "DEBUG - Before executing multiply...\n",
      "DEBUG - After executing multiply...\n",
      "Result: 12\n"
     ]
    }
   ],
   "source": [
    "#Ans 53\n",
    "def message_decorator(message):\n",
    "    def decorator(func):\n",
    "        def wrapper(*args, **kwargs):\n",
    "            print(f\"{message} - Before executing {func.__name__}...\")\n",
    "            result = func(*args, **kwargs)\n",
    "            print(f\"{message} - After executing {func.__name__}...\")\n",
    "            return result\n",
    "        return wrapper\n",
    "    return decorator\n",
    "@message_decorator(\"INFO\")\n",
    "def greet(name):\n",
    "    print(f\"Hello, {name}!\")\n",
    "\n",
    "@message_decorator(\"DEBUG\")\n",
    "def multiply(a, b):\n",
    "    return a * b\n",
    "\n",
    "greet(\"Alice\")\n",
    "result = multiply(3, 4)\n",
    "print(f\"Result: {result}\")\n"
   ]
  },
  {
   "cell_type": "code",
   "execution_count": 9,
   "id": "7ed1b0f6-5967-4481-a5ca-ac0e2442c932",
   "metadata": {},
   "outputs": [],
   "source": [
    "#54 Create two decorators, and apply them to a single function. Ensure that they execute in the order they are applied"
   ]
  },
  {
   "cell_type": "code",
   "execution_count": 11,
   "id": "e0cdfa1e-f474-4614-a06a-d42adb063201",
   "metadata": {},
   "outputs": [
    {
     "name": "stdout",
     "output_type": "stream",
     "text": [
      "Decorator One: Before executing the function\n",
      "Decorator Two: Before executing the function\n",
      "Executing the main function!\n",
      "Decorator Two: After executing the function\n",
      "Decorator One: After executing the function\n"
     ]
    }
   ],
   "source": [
    "#Ans 54 \n",
    "def decorator_one(func):\n",
    "    def wrapper(*args, **kwargs):\n",
    "        print(\"Decorator One: Before executing the function\")\n",
    "        result = func(*args, **kwargs)\n",
    "        print(\"Decorator One: After executing the function\")\n",
    "        return result\n",
    "    return wrapper\n",
    "\n",
    "def decorator_two(func):\n",
    "    def wrapper(*args, **kwargs):\n",
    "        print(\"Decorator Two: Before executing the function\")\n",
    "        result = func(*args, **kwargs)\n",
    "        print(\"Decorator Two: After executing the function\")\n",
    "        return result\n",
    "    return wrapper\n",
    "\n",
    "@decorator_one\n",
    "@decorator_two\n",
    "def my_function():\n",
    "    print(\"Executing the main function!\")\n",
    "\n",
    "my_function()\n"
   ]
  },
  {
   "cell_type": "code",
   "execution_count": 12,
   "id": "457290f9-84e8-4479-b6dd-5533f36949ec",
   "metadata": {},
   "outputs": [],
   "source": [
    "#55 Modify the decorator to accept and pass function arguments to the wrapped function"
   ]
  },
  {
   "cell_type": "code",
   "execution_count": 16,
   "id": "c20a9601-e071-4a6a-9f4e-b454707e1ea1",
   "metadata": {},
   "outputs": [
    {
     "name": "stdout",
     "output_type": "stream",
     "text": [
      "Decorator One: Before executing the function\n",
      "Decorator Two: Before executing the function\n",
      "Executing the main function with arguments: 5, 3\n",
      "Decorator Two: After executing the function\n",
      "Decorator One: After executing the function\n",
      "Result: 8\n"
     ]
    }
   ],
   "source": [
    "#Ans 55 \n",
    "def decorator_one(func):\n",
    "    def wrapper(*args, **kwargs):\n",
    "        print(\"Decorator One: Before executing the function\")\n",
    "        result = func(*args, **kwargs)  \n",
    "        print(\"Decorator One: After executing the function\")\n",
    "        return result\n",
    "    return wrapper\n",
    "\n",
    "def decorator_two(func):\n",
    "    def wrapper(*args, **kwargs):\n",
    "        print(\"Decorator Two: Before executing the function\")\n",
    "        result = func(*args, **kwargs)  \n",
    "        print(\"Decorator Two: After executing the function\")\n",
    "        return result\n",
    "    return wrapper\n",
    "\n",
    "@decorator_one\n",
    "@decorator_two\n",
    "def my_function(a, b):\n",
    "    print(f\"Executing the main function with arguments: {a}, {b}\")\n",
    "    return a + b\n",
    "\n",
    "result = my_function(5, 3)\n",
    "print(f\"Result: {result}\")\n"
   ]
  },
  {
   "cell_type": "code",
   "execution_count": 17,
   "id": "6fde6966-eda7-4987-88d0-04da488c9f2c",
   "metadata": {},
   "outputs": [],
   "source": [
    "#56 Create a decorator that preserves the metadata of the original function"
   ]
  },
  {
   "cell_type": "code",
   "execution_count": 20,
   "id": "7d330c7e-39ea-4b7d-a02c-8a1baabc5b53",
   "metadata": {},
   "outputs": [
    {
     "name": "stdout",
     "output_type": "stream",
     "text": [
      "Function Name: sample_function\n",
      "Function Docstring: This is a sample function.\n",
      "Decorator: Before executing the function\n",
      "Executing the function with arguments: 5, 10\n",
      "Decorator: After executing the function\n",
      "Result: 15\n"
     ]
    }
   ],
   "source": [
    "#Ans 56\n",
    "from functools import wraps\n",
    "\n",
    "def metadata_preserving_decorator(func):\n",
    "    @wraps(func)\n",
    "    def wrapper(*args, **kwargs):\n",
    "        print(\"Decorator: Before executing the function\")\n",
    "        result = func(*args, **kwargs)\n",
    "        print(\"Decorator: After executing the function\")\n",
    "        return result\n",
    "    return wrapper\n",
    "@metadata_preserving_decorator\n",
    "def sample_function(a, b):\n",
    "    \"\"\"This is a sample function.\"\"\"\n",
    "    print(f\"Executing the function with arguments: {a}, {b}\")\n",
    "    return a + b\n",
    "\n",
    "\n",
    "print(f\"Function Name: {sample_function.__name__}\")\n",
    "print(f\"Function Docstring: {sample_function.__doc__}\")\n",
    "\n",
    "\n",
    "result = sample_function(5, 10)\n",
    "print(f\"Result: {result}\")\n"
   ]
  },
  {
   "cell_type": "code",
   "execution_count": 22,
   "id": "f4f1b776-246d-4535-b531-1414ae0cadd3",
   "metadata": {},
   "outputs": [],
   "source": [
    "#57 Create a Python class `Calculator` with a static method `add` that takes in two numbers and returns their sum"
   ]
  },
  {
   "cell_type": "code",
   "execution_count": 24,
   "id": "deed6c56-3621-4adf-97ee-e93c1c0a6c26",
   "metadata": {},
   "outputs": [
    {
     "name": "stdout",
     "output_type": "stream",
     "text": [
      "The sum is: 8\n"
     ]
    }
   ],
   "source": [
    "#Ans 57\n",
    "class Calculator:\n",
    "    @staticmethod\n",
    "    def add(a, b):\n",
    "        \"\"\"Returns the sum of two numbers.\"\"\"\n",
    "        return a + b\n",
    "\n",
    "\n",
    "result = Calculator.add(5, 3)\n",
    "print(f\"The sum is: {result}\")\n"
   ]
  },
  {
   "cell_type": "code",
   "execution_count": 25,
   "id": "f11d9b5e-3c66-4020-ab24-acbe7e223e6b",
   "metadata": {},
   "outputs": [],
   "source": [
    "#58  Create a Python class `Employee` with a class `method get_employee_count` that returns the total number of employees created"
   ]
  },
  {
   "cell_type": "code",
   "execution_count": 28,
   "id": "4521a50c-cc2e-453b-8d30-8c82cd4707d2",
   "metadata": {},
   "outputs": [
    {
     "name": "stdout",
     "output_type": "stream",
     "text": [
      "Total employees: 3\n"
     ]
    }
   ],
   "source": [
    "#Ans 58\n",
    "class Employee:\n",
    "    \n",
    "    employee_count = 0\n",
    "\n",
    "    def __init__(self, name):\n",
    "        self.name = name\n",
    "        Employee.employee_count += 1  \n",
    "\n",
    "    @classmethod\n",
    "    def get_employee_count(cls):\n",
    "        \"\"\"Returns the total number of employees created.\"\"\"\n",
    "        return cls.employee_count\n",
    "\n",
    "# Example usage\n",
    "emp1 = Employee(\"Alice\")\n",
    "emp2 = Employee(\"Bob\")\n",
    "emp3 = Employee(\"Charlie\")\n",
    "\n",
    "print(f\"Total employees: {Employee.get_employee_count()}\")\n"
   ]
  },
  {
   "cell_type": "code",
   "execution_count": 29,
   "id": "ec5c8204-67f6-44c8-bdc6-d6d8ac7e8cb7",
   "metadata": {},
   "outputs": [],
   "source": [
    "#59 Create a Python class `StringFormatter` with a static method `reverse_string` that takes a string as input and returns its reverse"
   ]
  },
  {
   "cell_type": "code",
   "execution_count": 30,
   "id": "89f2658e-eb63-4dff-b574-0ff6fab22048",
   "metadata": {},
   "outputs": [
    {
     "name": "stdout",
     "output_type": "stream",
     "text": [
      "Reversed string: olleh\n"
     ]
    }
   ],
   "source": [
    "#Ans 59 \n",
    "class StringFormatter:\n",
    "    @staticmethod\n",
    "    def reverse_string(s):\n",
    "        \"\"\"Returns the reverse of the input string.\"\"\"\n",
    "        return s[::-1]\n",
    "\n",
    "# Example usage\n",
    "reversed_string = StringFormatter.reverse_string(\"hello\")\n",
    "print(f\"Reversed string: {reversed_string}\")\n"
   ]
  },
  {
   "cell_type": "code",
   "execution_count": 31,
   "id": "8322274f-c5c8-4016-98a8-897cb3a8642c",
   "metadata": {},
   "outputs": [],
   "source": [
    "#60 Create a Python class `Circle` with a class method `calculate_area` that calculates the area of a circle given its radius"
   ]
  },
  {
   "cell_type": "code",
   "execution_count": 33,
   "id": "a4a38221-d385-4e0b-ad70-6130c9c67183",
   "metadata": {},
   "outputs": [
    {
     "name": "stdout",
     "output_type": "stream",
     "text": [
      "The area of a circle with radius 5 is: 78.54\n"
     ]
    }
   ],
   "source": [
    "#Ans 60 \n",
    "import math\n",
    "\n",
    "class Circle:\n",
    "    @classmethod\n",
    "    def calculate_area(cls, radius):\n",
    "        \"\"\"Calculates and returns the area of a circle given its radius.\"\"\"\n",
    "        if radius < 0:\n",
    "            raise ValueError(\"Radius cannot be negative\")\n",
    "        return math.pi * radius**2\n",
    "\n",
    "# Example usage\n",
    "radius = 5\n",
    "area = Circle.calculate_area(radius)\n",
    "print(f\"The area of a circle with radius {radius} is: {area:.2f}\")\n",
    "\n"
   ]
  },
  {
   "cell_type": "code",
   "execution_count": 34,
   "id": "14cd8c94-b1c2-4772-b2bd-286ff85380ce",
   "metadata": {},
   "outputs": [],
   "source": [
    "#61 Create a Python class `TemperatureConverter` with a static method `celsius_to_fahrenheit` that converts Celsius to Fahrenheit"
   ]
  },
  {
   "cell_type": "code",
   "execution_count": 36,
   "id": "71742d2a-7d24-416c-ba1c-30fc047fea83",
   "metadata": {},
   "outputs": [
    {
     "name": "stdout",
     "output_type": "stream",
     "text": [
      "25°C is equal to 77.0°F\n"
     ]
    }
   ],
   "source": [
    "#Ans 61 \n",
    "class TemperatureConverter:\n",
    "    @staticmethod\n",
    "    def celsius_to_fahrenheit(celsius):\n",
    "        \"\"\"Converts Celsius to Fahrenheit.\"\"\"\n",
    "        return (celsius * 9/5) + 32\n",
    "\n",
    "# Example usage\n",
    "celsius_temp = 25\n",
    "fahrenheit_temp = TemperatureConverter.celsius_to_fahrenheit(celsius_temp)\n",
    "print(f\"{celsius_temp}°C is equal to {fahrenheit_temp}°F\")\n"
   ]
  },
  {
   "cell_type": "code",
   "execution_count": 37,
   "id": "d2ed84dc-ed40-4399-8905-ce0db3aef049",
   "metadata": {},
   "outputs": [],
   "source": [
    "#62  What is the purpose of the __str__() method in Python classes? Provide an example"
   ]
  },
  {
   "cell_type": "code",
   "execution_count": 38,
   "id": "646209d4-f80f-4da6-b50b-7a7d7416f4dc",
   "metadata": {},
   "outputs": [
    {
     "name": "stdout",
     "output_type": "stream",
     "text": [
      "Person(Name: Alice, Age: 30)\n"
     ]
    }
   ],
   "source": [
    "#Ans 62\n",
    "\"\"\"\n",
    "The __str__() method in Python is a special method used to define a human-readable or “informal” string representation of an object. When you use the print() function or str() on an instance of a class, Python calls the __str__() method to determine what to display.\n",
    "\n",
    "If the __str__() method is not defined in a class, the default implementation (inherited from the object class) will return a string containing the object's memory address, which is usually not helpful.\n",
    "\n",
    "Purpose\n",
    "To provide a meaningful, user-friendly string representation of an object.\n",
    "It is particularly useful for debugging and logging.\n",
    "\"\"\"\n",
    "#Example \n",
    "class Person:\n",
    "    def __init__(self, name, age):\n",
    "        self.name = name\n",
    "        self.age = age\n",
    "\n",
    "    def __str__(self):\n",
    "        return f\"Person(Name: {self.name}, Age: {self.age})\"\n",
    "\n",
    "# Example usage\n",
    "p = Person(\"Alice\", 30)\n",
    "print(p)  \n"
   ]
  },
  {
   "cell_type": "code",
   "execution_count": 39,
   "id": "1af3fd94-2f81-440f-9a9e-4ede57fbfc12",
   "metadata": {},
   "outputs": [],
   "source": [
    "# 63 How does the __len__() method work in Python? Provide an example"
   ]
  },
  {
   "cell_type": "code",
   "execution_count": 41,
   "id": "23bfaa17-5a68-48fc-a69a-220c09187a5e",
   "metadata": {},
   "outputs": [
    {
     "name": "stdout",
     "output_type": "stream",
     "text": [
      "5\n"
     ]
    }
   ],
   "source": [
    "#Ans 63\n",
    "#The __len__() method in Python is a special method used to define the behavior of the built-in len() \n",
    "#function for instances of a class. It should return the length of an object, which can be defined in a meaningful way depending on the class's purpose.\n",
    "#If a class defines the __len__() method, you can call len(instance) on its objects to get the length.\n",
    "\n",
    "#Example \n",
    "class CustomList:\n",
    "    def __init__(self, items):\n",
    "        self.items = items\n",
    "\n",
    "    def __len__(self):\n",
    "        \"\"\"Returns the number of items in the list.\"\"\"\n",
    "        return len(self.items)\n",
    "\n",
    "\n",
    "my_list = CustomList([1, 2, 3, 4, 5])\n",
    "print(len(my_list))  \n"
   ]
  },
  {
   "cell_type": "code",
   "execution_count": 42,
   "id": "ecc45b65-6ef0-416b-95fb-37e28bda70c2",
   "metadata": {},
   "outputs": [],
   "source": [
    "#64  Explain the usage of the __add__() method in Python classes. Provide an example"
   ]
  },
  {
   "cell_type": "code",
   "execution_count": 43,
   "id": "364dffff-c056-49db-8bd3-568f87fe6245",
   "metadata": {},
   "outputs": [
    {
     "name": "stdout",
     "output_type": "stream",
     "text": [
      "Vector(6, 8)\n"
     ]
    }
   ],
   "source": [
    "#Ans 64 \n",
    "\"\"\"\n",
    "The __add__() method in Python is a special method used to define the behavior of the addition operator (+) for objects of a class.\n",
    "When you use object1 + object2, Python internally calls object1.__add__(object2) to perform the addition.\n",
    "\"\"\"\n",
    "#Example \n",
    "class Vector:\n",
    "    def __init__(self, x, y):\n",
    "        self.x = x\n",
    "        self.y = y\n",
    "\n",
    "    def __add__(self, other):\n",
    "        \"\"\"Defines vector addition.\"\"\"\n",
    "        if isinstance(other, Vector):\n",
    "            return Vector(self.x + other.x, self.y + other.y)\n",
    "        return NotImplemented\n",
    "\n",
    "    def __str__(self):\n",
    "        return f\"Vector({self.x}, {self.y})\"\n",
    "\n",
    "v1 = Vector(2, 3)\n",
    "v2 = Vector(4, 5)\n",
    "result = v1 + v2  \n",
    "print(result)  "
   ]
  },
  {
   "cell_type": "code",
   "execution_count": 44,
   "id": "ed982fa5-923b-4a94-91dc-6057ef7c4ae0",
   "metadata": {},
   "outputs": [],
   "source": [
    "#65  What is the purpose of the __getitem__() method in Python? Provide an example"
   ]
  },
  {
   "cell_type": "code",
   "execution_count": 45,
   "id": "555a7227-0bd1-4f9e-b33f-6326cc72c1e0",
   "metadata": {},
   "outputs": [
    {
     "name": "stdout",
     "output_type": "stream",
     "text": [
      "30\n"
     ]
    }
   ],
   "source": [
    "#Ans 65 \n",
    "# Purpose\n",
    "# To enable indexing or key-based access to elements in a custom object.\n",
    "# It is commonly used in custom container classes to provide controlled access to their internal data.\n",
    "#Example \n",
    "class CustomList:\n",
    "    def __init__(self, items):\n",
    "        self.items = items\n",
    "\n",
    "    def __getitem__(self, index):\n",
    "        \"\"\"Returns the item at the specified index.\"\"\"\n",
    "        return self.items[index]\n",
    "\n",
    "# Example usage\n",
    "my_list = CustomList([10, 20, 30, 40])\n",
    "print(my_list[2])  "
   ]
  },
  {
   "cell_type": "code",
   "execution_count": 46,
   "id": "d78e25da-9333-4ae9-8986-279ab745ab7d",
   "metadata": {},
   "outputs": [],
   "source": [
    "#66 Explain the usage of the __iter__() and __next__() methods in Python. Provide an example using iterators"
   ]
  },
  {
   "cell_type": "code",
   "execution_count": 47,
   "id": "02d98d6f-9f52-4e17-9588-68e6ebdeb521",
   "metadata": {},
   "outputs": [
    {
     "name": "stdout",
     "output_type": "stream",
     "text": [
      "1\n",
      "2\n",
      "3\n",
      "4\n",
      "5\n"
     ]
    }
   ],
   "source": [
    "#Ans 66 \n",
    "\"\"\"\n",
    "The __iter__() and __next__() methods in Python are used to create and manage iterators. Iterators are objects that represent a stream of data and allow iteration over their elements one at a time.\n",
    "\n",
    "Key Points\n",
    "__iter__():\n",
    "\n",
    "Defines the initialization of the iterator.\n",
    "Must return the iterator object itself (usually self).\n",
    "__next__():\n",
    "\n",
    "Defines how to retrieve the next item in the sequence.\n",
    "Raises a StopIteration exception when there are no more items to iterate.\n",
    "These methods work together to allow objects to be used in loops (e.g., for loops).\n",
    "\n",
    "Example: Custom Iterator\n",
    "Here’s an example of creating a custom iterator using __iter__() and __next__():\n",
    "\"\"\"\n",
    "class Counter:\n",
    "    def __init__(self, start, end):\n",
    "        self.current = start\n",
    "        self.end = end\n",
    "\n",
    "    def __iter__(self):\n",
    "        \"\"\"Returns the iterator object itself.\"\"\"\n",
    "        return self\n",
    "\n",
    "    def __next__(self):\n",
    "        \"\"\"Returns the next value in the sequence.\"\"\"\n",
    "        if self.current > self.end:\n",
    "            raise StopIteration\n",
    "        value = self.current\n",
    "        self.current += 1\n",
    "        return value\n",
    "\n",
    "# Example usage\n",
    "counter = Counter(1, 5)\n",
    "for number in counter:\n",
    "    print(number)\n"
   ]
  },
  {
   "cell_type": "code",
   "execution_count": 48,
   "id": "c5fc5169-9673-4c5f-999c-9122ecbb0d38",
   "metadata": {},
   "outputs": [],
   "source": [
    "#67 What is the purpose of a getter method in Python? Provide an example demonstrating the use of a getter method using property decorators"
   ]
  },
  {
   "cell_type": "code",
   "execution_count": 50,
   "id": "958b22b1-ef0a-437d-8b1c-07226b785ff2",
   "metadata": {},
   "outputs": [
    {
     "name": "stdout",
     "output_type": "stream",
     "text": [
      "John Doe\n"
     ]
    }
   ],
   "source": [
    "#Ans 67\n",
    "\"\"\"\n",
    "In Python, a getter method is used to retrieve the value of an attribute in a controlled way. The property decorator is \n",
    "often used to create these getter methods, allowing you to define how an attribute should be accessed while maintaining encapsulation.\n",
    "\n",
    "Purpose\n",
    "To provide a controlled access to an attribute.\n",
    "To perform additional logic (e.g., validation, transformation) whenever an attribute is accessed.\n",
    "To hide attributes and only expose necessary parts of an object.\n",
    "\"\"\"\n",
    "class Person:\n",
    "    def __init__(self, first_name, last_name):\n",
    "        self._first_name = first_name\n",
    "        self._last_name = last_name\n",
    "\n",
    "    @property\n",
    "    def full_name(self):\n",
    "        \"\"\"Getter for the full name, combining first and last name.\"\"\"\n",
    "        return f\"{self._first_name} {self._last_name}\"\n",
    "\n",
    "# Example usage\n",
    "person = Person(\"John\", \"Doe\")\n",
    "print(person.full_name)  \n"
   ]
  },
  {
   "cell_type": "code",
   "execution_count": 51,
   "id": "9ea56d66-159d-453c-ab2d-00e632737537",
   "metadata": {},
   "outputs": [],
   "source": [
    "#68  Explain the role of setter methods in Python. Demonstrate how to use a setter method to modify a class attribute using property decorators"
   ]
  },
  {
   "cell_type": "code",
   "execution_count": 54,
   "id": "5dd5d486-5811-4daa-a3cc-65b31d4a6f1c",
   "metadata": {},
   "outputs": [
    {
     "name": "stdout",
     "output_type": "stream",
     "text": [
      "John Doe\n",
      "Jane Smith\n"
     ]
    }
   ],
   "source": [
    "#Ans 68 \n",
    "\"\"\"\n",
    "Setter methods in Python allow you to define how an attribute can be modified after its initial assignment.\n",
    "The property decorator can be used in combination with a setter to control and validate changes made to an attribute.\n",
    "\n",
    "Role of Setter Methods\n",
    "To encapsulate the process of setting an attribute.\n",
    "To apply validation, transformation, or other logic whenever the value of an attribute is changed.\n",
    "To restrict modifications to certain rules or ranges, ensuring data integrity and consistency.\n",
    "\"\"\"\n",
    "class Person:\n",
    "    def __init__(self, first_name, last_name):\n",
    "        self._first_name = first_name\n",
    "        self._last_name = last_name\n",
    "\n",
    "    @property\n",
    "    def full_name(self):\n",
    "        \"\"\"Getter for the full name.\"\"\"\n",
    "        return f\"{self._first_name} {self._last_name}\"\n",
    "\n",
    "    @full_name.setter\n",
    "    def full_name(self, name):\n",
    "        \"\"\"Setter for the full name, splits it into first and last names.\"\"\"\n",
    "        first, last = name.split()\n",
    "        self._first_name = first\n",
    "        self._last_name = last\n",
    "\n",
    "# Example usage\n",
    "person = Person(\"John\", \"Doe\")\n",
    "print(person.full_name)  \n",
    "\n",
    "person.full_name = \"Jane Smith\"  \n",
    "print(person.full_name)  \n"
   ]
  },
  {
   "cell_type": "code",
   "execution_count": 55,
   "id": "380aeee6-5aea-4a0f-b74b-c28306e8a20d",
   "metadata": {},
   "outputs": [],
   "source": [
    "#69 What is the purpose of the @property decorator in Python? Provide an example illustrating its usage"
   ]
  },
  {
   "cell_type": "code",
   "execution_count": 56,
   "id": "ac71dd53-cd16-4b97-8d2e-afaaac57447f",
   "metadata": {},
   "outputs": [
    {
     "name": "stdout",
     "output_type": "stream",
     "text": [
      "20\n"
     ]
    }
   ],
   "source": [
    "#Ans 69 \n",
    "\"\"\"\n",
    "The @property decorator in Python is used to define a method as a property. This allows you to access\n",
    "an attribute like a regular attribute without changing its underlying implementation. The @property\n",
    "decorator can be used to create read-only properties, or properties with controlled setters and getters.\n",
    "\n",
    "Purpose\n",
    "Read-only properties: It enables the creation of attributes that can be read but not modified directly.\n",
    "Controlled access: It allows you to add additional logic when getting or setting an attribute value, such as validation or transformation.\n",
    "Encapsulation: It helps hide the complexity of an internal implementation by providing a simple, uniform interface to access attributes.\n",
    "\"\"\"\n",
    "class Rectangle:\n",
    "    def __init__(self, width, height):\n",
    "        self._width = width\n",
    "        self._height = height\n",
    "\n",
    "    @property\n",
    "    def area(self):\n",
    "        \"\"\"Getter for the area of the rectangle.\"\"\"\n",
    "        return self._width * self._height\n",
    "\n",
    "# Example usage\n",
    "rect = Rectangle(4, 5)\n",
    "print(rect.area)  \n"
   ]
  },
  {
   "cell_type": "code",
   "execution_count": 57,
   "id": "8d66bba6-bf73-4c8d-bd11-1cab4ea9c3f3",
   "metadata": {},
   "outputs": [],
   "source": [
    "#70 Explain the use of the @deleter decorator in Python property decorators. Provide a code example demonstrating its application"
   ]
  },
  {
   "cell_type": "code",
   "execution_count": 58,
   "id": "b414bdfa-0e23-4f06-aec9-1427e0e16477",
   "metadata": {},
   "outputs": [
    {
     "name": "stdout",
     "output_type": "stream",
     "text": [
      "High\n",
      "Cleaning up resources for the setting\n"
     ]
    }
   ],
   "source": [
    "#Ans 70 \n",
    "\"\"\"\n",
    "The @deleter decorator in Python property decorators is used to define a custom behavior \n",
    "when an attribute is deleted from an object. It provides a controlled way to manage the deletion of\n",
    "attributes, allowing for validation, cleanup, or other custom logic before an attribute is removed.\n",
    "\n",
    "Purpose\n",
    "Controlled Deletion: It allows you to define what happens when an attribute is deleted.\n",
    "Cleanup Operations: It enables cleanup actions, like releasing resources or closing connections, when an attribute is no longer needed.\n",
    "Encapsulation: It provides a uniform interface for managing deletions.\n",
    "\"\"\"\n",
    "class Config:\n",
    "    def __init__(self, setting):\n",
    "        self._setting = setting\n",
    "\n",
    "    @property\n",
    "    def setting(self):\n",
    "        \"\"\"Getter for the setting\"\"\"\n",
    "        return self._setting\n",
    "\n",
    "    @setting.deleter\n",
    "    def setting(self):\n",
    "        \"\"\"Deleter for the setting, cleans up before deletion\"\"\"\n",
    "        print(\"Cleaning up resources for the setting\")\n",
    "        del self._setting\n",
    "\n",
    "# Example usage\n",
    "config = Config(\"High\")\n",
    "print(config.setting)  # Output: High\n",
    "\n",
    "del config.setting  \n"
   ]
  },
  {
   "cell_type": "code",
   "execution_count": 59,
   "id": "08c00d89-e62e-431c-8c78-8a75bf60c20a",
   "metadata": {},
   "outputs": [],
   "source": [
    "#71  How does encapsulation relate to property decorators in Python? Provide an example showcasing encapsulation using property decorators."
   ]
  },
  {
   "cell_type": "code",
   "execution_count": 60,
   "id": "b7f8c6e3-91c3-4638-9b1b-c204e98c90d8",
   "metadata": {},
   "outputs": [
    {
     "name": "stdout",
     "output_type": "stream",
     "text": [
      "50000\n",
      "60000\n",
      "Salary cannot be negative\n",
      "Deleting salary record for employee\n"
     ]
    }
   ],
   "source": [
    "#Ans 71 \n",
    "\"\"\"\n",
    "Encapsulation in Python relates to property decorators by allowing you to control the access to an \n",
    "object’s attributes, managing how they are accessed, modified, or deleted. Property decorators in Python\n",
    "(@property, @setter, and @deleter) enable encapsulation by providing a controlled interface for interacting with the data members of a class.\n",
    "\"\"\"\n",
    "#Example\n",
    "class Employee:\n",
    "    def __init__(self, name, _salary):\n",
    "        self.name = name\n",
    "        self._salary = _salary\n",
    "\n",
    "    @property\n",
    "    def salary(self):\n",
    "        \"\"\"Getter for the salary\"\"\"\n",
    "        return self._salary\n",
    "\n",
    "    @salary.setter\n",
    "    def salary(self, new_salary):\n",
    "        \"\"\"Setter for the salary with validation\"\"\"\n",
    "        if new_salary < 0:\n",
    "            raise ValueError(\"Salary cannot be negative\")\n",
    "        self._salary = new_salary\n",
    "\n",
    "    @salary.deleter\n",
    "    def salary(self):\n",
    "        \"\"\"Deleter for the salary, allows cleanup before deletion\"\"\"\n",
    "        print(\"Deleting salary record for employee\")\n",
    "        del self._salary\n",
    "\n",
    "# Example usage\n",
    "employee = Employee(\"John Doe\", 50000)\n",
    "print(employee.salary)  \n",
    "\n",
    "employee.salary = 60000  \n",
    "print(employee.salary)  \n",
    "\n",
    "try:\n",
    "    employee.salary = -1000 \n",
    "except ValueError as e:\n",
    "    print(e)  \n",
    "\n",
    "del employee.salary  "
   ]
  },
  {
   "cell_type": "code",
   "execution_count": null,
   "id": "a3243b9b-785a-475f-afe7-5f3dc4575623",
   "metadata": {},
   "outputs": [],
   "source": []
  }
 ],
 "metadata": {
  "kernelspec": {
   "display_name": "Python 3 (ipykernel)",
   "language": "python",
   "name": "python3"
  },
  "language_info": {
   "codemirror_mode": {
    "name": "ipython",
    "version": 3
   },
   "file_extension": ".py",
   "mimetype": "text/x-python",
   "name": "python",
   "nbconvert_exporter": "python",
   "pygments_lexer": "ipython3",
   "version": "3.12.6"
  }
 },
 "nbformat": 4,
 "nbformat_minor": 5
}
